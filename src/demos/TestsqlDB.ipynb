{
 "cells": [
  {
   "cell_type": "code",
   "execution_count": 2,
   "metadata": {},
   "outputs": [],
   "source": [
    "import asyncio\n",
    "from typing import Annotated\n",
    "\n",
    "from semantic_kernel import Kernel\n",
    "from semantic_kernel.agents import ChatCompletionAgent\n",
    "from semantic_kernel.connectors.ai import FunctionChoiceBehavior\n",
    "from semantic_kernel.connectors.ai.open_ai import AzureChatCompletion\n",
    "from semantic_kernel.contents import ChatHistory, FunctionCallContent, FunctionResultContent\n",
    "from semantic_kernel.functions import KernelArguments, kernel_function\n",
    "\n",
    "import json"
   ]
  },
  {
   "cell_type": "code",
   "execution_count": 3,
   "metadata": {},
   "outputs": [
    {
     "data": {
      "text/plain": [
       "True"
      ]
     },
     "execution_count": 3,
     "metadata": {},
     "output_type": "execute_result"
    }
   ],
   "source": [
    "import json\n",
    "import os\n",
    "from dotenv import load_dotenv\n",
    "import psycopg2\n",
    "from psycopg2.extras import RealDictCursor\n",
    "load_dotenv()"
   ]
  },
  {
   "cell_type": "code",
   "execution_count": 15,
   "metadata": {},
   "outputs": [
    {
     "data": {
      "text/plain": [
       "'5433'"
      ]
     },
     "execution_count": 15,
     "metadata": {},
     "output_type": "execute_result"
    }
   ],
   "source": [
    "os.getenv(\"DB_PORT\")"
   ]
  },
  {
   "cell_type": "code",
   "execution_count": 42,
   "metadata": {},
   "outputs": [],
   "source": [
    "from decimal import Decimal\n",
    "\n",
    "class Accounts:\n",
    "    def __init__(self):\n",
    "        self.create_connection()\n",
    "\n",
    "    def create_connection(self):\n",
    "        print(\"create_connection function called... \")\n",
    "        connection = psycopg2.connect(\n",
    "            dbname=os.getenv(\"DB_NAME\"),\n",
    "            user=os.getenv(\"DB_USER\"),\n",
    "            password=os.getenv(\"DB_PASSWORD\"),\n",
    "            host=os.getenv(\"DB_HOST\"),\n",
    "            port=os.getenv(\"DB_PORT\")\n",
    "        )\n",
    "        self.connection = connection\n",
    "        self.cursor = self.connection.cursor(cursor_factory=RealDictCursor)\n",
    "\n",
    "    @kernel_function(description=\"Fetches user information for a given account id.\")\n",
    "    def get_account_info(self, account_id: Annotated[str, \"account id to look up\"]) -> Annotated[str, \"Returns the account information.\"]:\n",
    "        \"\"\"\n",
    "        Fetches account information from the Account table in PostgreSQL database.\n",
    "\n",
    "        :param account_id (int): ID of the account.\n",
    "        :return: Account information as a JSON string.\n",
    "        :rtype: str\n",
    "        \"\"\"\n",
    "        print(\"get_account_info function called... \")\n",
    "        try:\n",
    "            if(self.connection != True):\n",
    "                self.create_connection()\n",
    "            \n",
    "            connection = self.connection\n",
    "            cursor = self.cursor\n",
    "            cursor.execute(\"SELECT * FROM accounts WHERE account_id = %s\", (account_id,))\n",
    "            account_record = cursor.fetchone()\n",
    "            if account_record:\n",
    "                # Convert Decimal values to strings\n",
    "                for key, value in account_record.items():\n",
    "                    if isinstance(value, Decimal):\n",
    "                        account_record[key] = str(value)\n",
    "                return json.dumps({\"account_info\": account_record})\n",
    "            else:\n",
    "                return json.dumps({\"error\": \"Account not found.\"})\n",
    "        except Exception as e:\n",
    "            return json.dumps({\"error\": str(e)})\n",
    "        # finally:\n",
    "        #     if connection:\n",
    "        #         self.close_connection()\n",
    "        \n",
    "    \n",
    "    @kernel_function(description=\"Closes the connection to the database.\")\n",
    "    def close_connection(self) -> Annotated[str, \"Returns a message indicating the status of the connection closure.\"]:\n",
    "        \"\"\"\n",
    "        Closes the connection to the PostgreSQL database.\n",
    "\n",
    "        :return: Message indicating the status of the connection closure.\n",
    "        :rtype: str\n",
    "        \"\"\"\n",
    "        print(\"close_connection function called... \")\n",
    "        try:\n",
    "            if self.connection:\n",
    "                self.cursor.close()\n",
    "                self.connection.close()\n",
    "            return \"Connection closed successfully.\"\n",
    "        except Exception as e:\n",
    "            return str(e)"
   ]
  },
  {
   "cell_type": "code",
   "execution_count": 43,
   "metadata": {},
   "outputs": [
    {
     "name": "stdout",
     "output_type": "stream",
     "text": [
      "create_connection function called... \n"
     ]
    }
   ],
   "source": [
    "accounts_instance = Accounts()"
   ]
  },
  {
   "cell_type": "code",
   "execution_count": 45,
   "metadata": {},
   "outputs": [
    {
     "name": "stdout",
     "output_type": "stream",
     "text": [
      "get_account_info function called... \n",
      "create_connection function called... \n"
     ]
    },
    {
     "data": {
      "text/plain": [
       "'{\"account_info\": {\"account_id\": 1, \"name\": \"HBL\", \"email\": \"abcd@gef.com\", \"phone\": \"9876543210\", \"balance\": \"99034.50\"}}'"
      ]
     },
     "execution_count": 45,
     "metadata": {},
     "output_type": "execute_result"
    }
   ],
   "source": [
    "accounts_instance.get_account_info(1)"
   ]
  },
  {
   "cell_type": "code",
   "execution_count": 46,
   "metadata": {},
   "outputs": [
    {
     "name": "stdout",
     "output_type": "stream",
     "text": [
      "close_connection function called... \n"
     ]
    },
    {
     "data": {
      "text/plain": [
       "'Connection closed successfully.'"
      ]
     },
     "execution_count": 46,
     "metadata": {},
     "output_type": "execute_result"
    }
   ],
   "source": [
    "accounts_instance.close_connection()"
   ]
  },
  {
   "cell_type": "code",
   "execution_count": 47,
   "metadata": {},
   "outputs": [],
   "source": [
    "# Simulate a conversation with the agent\n",
    "USER_INPUTS = [\n",
    "    \"Hello\",\n",
    "    \"Could you please give me more information about the account id 2 ?\",\n",
    "    \"Could you please give me more information about the account id 1 ?\",\n",
    "    \"No more questions. Thank you!\",\n",
    "]\n"
   ]
  },
  {
   "cell_type": "code",
   "execution_count": 48,
   "metadata": {},
   "outputs": [
    {
     "name": "stdout",
     "output_type": "stream",
     "text": [
      "create_connection function called... \n"
     ]
    }
   ],
   "source": [
    "# 1. Create the instance of the Kernel to register the plugin and service\n",
    "service_id = \"agent\" \n",
    "endpoint = os.getenv(\"AZURE_OPENAI_ENDPOINT\")\n",
    "kernel = Kernel()\n",
    "\n",
    "kernel.add_plugin(Accounts(), plugin_name=\"accounts_plugin\")\n",
    "kernel.add_service(\n",
    "            AzureChatCompletion(service_id=service_id,\n",
    "                                api_key=os.getenv(\"AZURE_OPENAI_API_KEY\"),\n",
    "                                deployment_name=os.getenv(\"AZURE_OPENAI_CHAT_COMPLETION_MODEL\"),\n",
    "                                endpoint=os.getenv(\"AZURE_OPENAI_ENDPOINT\"),\n",
    "                                \n",
    "            ))\n",
    "                                    "
   ]
  },
  {
   "cell_type": "code",
   "execution_count": 49,
   "metadata": {},
   "outputs": [],
   "source": [
    "# 2. Configure the function choice behavior to auto invoke kernel functions\n",
    "# so that the agent can automatically execute the menu plugin functions when needed\n",
    "settings = kernel.get_prompt_execution_settings_from_service_id(service_id=service_id)\n",
    "settings.function_choice_behavior = FunctionChoiceBehavior.Auto()"
   ]
  },
  {
   "cell_type": "code",
   "execution_count": 50,
   "metadata": {},
   "outputs": [],
   "source": [
    "# 3. Create the agent\n",
    "agent = ChatCompletionAgent(\n",
    "    kernel=kernel,\n",
    "    name=\"Host\",\n",
    "    instructions=\"\"\"Answer questions about the accounts in detail. Do not include the account balance in the response. \n",
    "                Provide information about one account at a time only.\n",
    "                After the customer confirms there are no more questions, close the Database connection\"\"\",\n",
    "    arguments=KernelArguments(settings=settings),\n",
    ")\n"
   ]
  },
  {
   "cell_type": "code",
   "execution_count": 51,
   "metadata": {},
   "outputs": [],
   "source": [
    "# 4. Create a chat history to hold the conversation\n",
    "chat_history = ChatHistory()"
   ]
  },
  {
   "cell_type": "code",
   "execution_count": 52,
   "metadata": {},
   "outputs": [
    {
     "name": "stdout",
     "output_type": "stream",
     "text": [
      "# User: Hello\n",
      "# Host: Hello! How can I assist you today? Do you have any questions about your accounts?\n",
      "# User: Could you please give me more information about the account id 2 ?\n",
      "get_account_info function called... \n",
      "create_connection function called... \n",
      "# Host: Here are the details for account ID 2:\n",
      "\n",
      "- **Name**: Vikas\n",
      "- **Email**: abcd@gef.com\n",
      "- **Phone**: 9876543210\n",
      "\n",
      "If you have any more questions about this account or if there's anything else I can help you with, just let me know!\n",
      "# User: Could you please give me more information about the account id 1 ?\n",
      "get_account_info function called... \n",
      "create_connection function called... \n",
      "# Host: Here is the information for account ID 1:\n",
      "\n",
      "- **Name:** HBL\n",
      "- **Email:** abcd@gef.com\n",
      "- **Phone:** 9876543210\n",
      "\n",
      "If you have any more questions or need information on another account, feel free to ask!\n",
      "# User: No more questions. Thank you!\n",
      "close_connection function called... \n",
      "# Host: You're welcome! If you have any more questions in the future, feel free to ask. Have a great day!\n"
     ]
    }
   ],
   "source": [
    "for user_input in USER_INPUTS:\n",
    "    # 5. Add the user input to the chat history\n",
    "    chat_history.add_user_message(user_input)\n",
    "    print(f\"# User: {user_input}\")\n",
    "    # 6. Invoke the agent for a response\n",
    "    async for content in agent.invoke(chat_history):\n",
    "        print(f\"# {content.name}: \", end=\"\")\n",
    "        if (\n",
    "            not any(isinstance(item, (FunctionCallContent, FunctionResultContent)) for item in content.items)\n",
    "            and content.content.strip()\n",
    "        ):\n",
    "            # We only want to print the content if it's not a function call or result\n",
    "            print(f\"{content.content}\", end=\"\", flush=True)\n",
    "    print(\"\")  # Print a newline to separate the messages"
   ]
  },
  {
   "cell_type": "code",
   "execution_count": 2,
   "metadata": {},
   "outputs": [
    {
     "name": "stdout",
     "output_type": "stream",
     "text": [
      "\n",
      "--- Valid Order Scenario ---\n",
      "LLM processing: 'I want to place order 123456 for a Laptop and Mouse.'\n",
      "Successfully parsed order: {\n",
      "  \"order_id\": \"ORD-123456\",\n",
      "  \"customer_email\": \"test@example.com\",\n",
      "  \"total_amount\": 99.99,\n",
      "  \"items\": [\n",
      "    \"Laptop\",\n",
      "    \"Mouse\"\n",
      "  ]\n",
      "}\n",
      "Agent Result: {\n",
      "  \"status\": \"success\",\n",
      "  \"action\": {\n",
      "    \"action_type\": \"process_order\",\n",
      "    \"payload\": {\n",
      "      \"order_id\": \"ORD-123456\",\n",
      "      \"customer_email\": \"test@example.com\",\n",
      "      \"total_amount\": 99.99,\n",
      "      \"items\": [\n",
      "        \"Laptop\",\n",
      "        \"Mouse\"\n",
      "      ]\n",
      "    }\n",
      "  }\n",
      "}\n",
      "\n",
      "--- Invalid Order Scenario ---\n",
      "LLM processing: 'Please process an invalid order for me.'\n",
      "LLM output validation failed: [{\"type\":\"string_pattern_mismatch\",\"loc\":[\"order_id\"],\"msg\":\"String should match pattern '^ORD-\\\\d{6}$'\",\"input\":\"INVALID-ID\",\"ctx\":{\"pattern\":\"^ORD-\\\\d{6}$\"},\"url\":\"https://errors.pydantic.dev/2.10/v/string_pattern_mismatch\"},{\"type\":\"greater_than_equal\",\"loc\":[\"total_amount\"],\"msg\":\"Input should be greater than or equal to 0\",\"input\":-10.0,\"ctx\":{\"ge\":0.0},\"url\":\"https://errors.pydantic.dev/2.10/v/greater_than_equal\"},{\"type\":\"missing\",\"loc\":[\"items\"],\"msg\":\"Field required\",\"input\":{\"order_id\":\"INVALID-ID\",\"customer_email\":\"bad-email\",\"total_amount\":-10.0},\"url\":\"https://errors.pydantic.dev/2.10/v/missing\"}]\n",
      "Agent Result: {\n",
      "  \"status\": \"failed\",\n",
      "  \"error\": \"Invalid LLM output, unable to parse order details.\"\n",
      "}\n"
     ]
    }
   ],
   "source": [
    "from pydantic import BaseModel, Field, ValidationError\n",
    "import json\n",
    "\n",
    "# 1. Define Data Schemas\n",
    "class OrderDetails(BaseModel):\n",
    "    order_id: str = Field(pattern=r\"^ORD-\\d{6}$\")\n",
    "    customer_email: str = Field(..., description=\"Email of the customer.\")\n",
    "    total_amount: float = Field(ge=0.0)\n",
    "    items: list[str] = Field(min_length=1)\n",
    "\n",
    "class AgentAction(BaseModel):\n",
    "    action_type: str = Field(description=\"Type of action to perform (e.g., 'process_order', 'send_email').\")\n",
    "    payload: dict = Field(description=\"Data payload for the action.\")\n",
    "\n",
    "# Simulate an LLM generating a response\n",
    "def mock_llm_response(prompt: str) -> str:\n",
    "    if \"order 123456\" in prompt:\n",
    "        return '{\"order_id\": \"ORD-123456\", \"customer_email\": \"test@example.com\", \"total_amount\": 99.99, \"items\": [\"Laptop\", \"Mouse\"]}'\n",
    "    elif \"invalid order\" in prompt:\n",
    "        return '{\"order_id\": \"INVALID-ID\", \"customer_email\": \"bad-email\", \"total_amount\": -10.0}'\n",
    "    else:\n",
    "        return '{\"action_type\": \"unknown\", \"payload\": {}}'\n",
    "\n",
    "# Agent's processing logic\n",
    "def process_order_request(user_input: str) -> dict:\n",
    "    # 2. Input Validation (Implicit here, assuming mock_llm_response handles initial parsing)\n",
    "\n",
    "    # Agent's Reasoning/Tool Use - LLM attempts to generate structured output\n",
    "    print(f\"LLM processing: '{user_input}'\")\n",
    "    llm_raw_output = mock_llm_response(user_input)\n",
    "\n",
    "    try:\n",
    "        # 2. Integrate Validation - Parsing LLM output to Pydantic model\n",
    "        order_details = OrderDetails.model_validate_json(llm_raw_output)\n",
    "        print(f\"Successfully parsed order: {order_details.model_dump_json(indent=2)}\")\n",
    "\n",
    "        # Agent decides on an action based on parsed data\n",
    "        action = AgentAction(\n",
    "            action_type=\"process_order\",\n",
    "            payload=order_details.model_dump() # Payload is the validated order details\n",
    "        )\n",
    "        return {\"status\": \"success\", \"action\": action.model_dump()}\n",
    "\n",
    "    except ValidationError as e:\n",
    "        print(f\"LLM output validation failed: {e.json()}\")\n",
    "        # 3. Error Handling - Returning structured error response\n",
    "        return {\"status\": \"failed\", \"error\": \"Invalid LLM output, unable to parse order details.\"}\n",
    "    except json.JSONDecodeError:\n",
    "        print(f\"LLM output is not valid JSON: {llm_raw_output}\")\n",
    "        return {\"status\": \"failed\", \"error\": \"LLM output is not valid JSON.\"}\n",
    "\n",
    "# --- Simulate agent interactions ---\n",
    "print(\"\\n--- Valid Order Scenario ---\")\n",
    "result_valid = process_order_request(\"I want to place order 123456 for a Laptop and Mouse.\")\n",
    "print(f\"Agent Result: {json.dumps(result_valid, indent=2)}\")\n",
    "\n",
    "print(\"\\n--- Invalid Order Scenario ---\")\n",
    "result_invalid = process_order_request(\"Please process an invalid order for me.\")\n",
    "print(f\"Agent Result: {json.dumps(result_invalid, indent=2)}\")"
   ]
  },
  {
   "cell_type": "code",
   "execution_count": null,
   "metadata": {},
   "outputs": [],
   "source": []
  }
 ],
 "metadata": {
  "kernelspec": {
   "display_name": ".venv",
   "language": "python",
   "name": "python3"
  },
  "language_info": {
   "codemirror_mode": {
    "name": "ipython",
    "version": 3
   },
   "file_extension": ".py",
   "mimetype": "text/x-python",
   "name": "python",
   "nbconvert_exporter": "python",
   "pygments_lexer": "ipython3",
   "version": "3.11.2"
  }
 },
 "nbformat": 4,
 "nbformat_minor": 2
}
