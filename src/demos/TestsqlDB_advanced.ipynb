{
 "cells": [
  {
   "cell_type": "code",
   "execution_count": null,
   "metadata": {},
   "outputs": [],
   "source": [
    "import asyncio\n",
    "from typing import Annotated\n",
    "\n",
    "from semantic_kernel import Kernel\n",
    "from semantic_kernel.agents import ChatCompletionAgent, FallbackChatCompletionAgent\n",
    "from semantic_kernel.connectors.ai import FunctionChoiceBehavior\n",
    "from semantic_kernel.connectors.ai.open_ai import AzureChatCompletion\n",
    "from semantic_kernel.contents import ChatHistory, FunctionCallContent, FunctionResultContent\n",
    "from semantic_kernel.functions import KernelArguments, kernel_function\n",
    "\n",
    "import json"
   ]
  },
  {
   "cell_type": "code",
   "execution_count": 2,
   "metadata": {},
   "outputs": [
    {
     "data": {
      "text/plain": [
       "True"
      ]
     },
     "execution_count": 2,
     "metadata": {},
     "output_type": "execute_result"
    }
   ],
   "source": [
    "import json\n",
    "import os\n",
    "from dotenv import load_dotenv\n",
    "import psycopg2\n",
    "from psycopg2.extras import RealDictCursor\n",
    "load_dotenv()"
   ]
  },
  {
   "cell_type": "code",
   "execution_count": 3,
   "metadata": {},
   "outputs": [
    {
     "name": "stdout",
     "output_type": "stream",
     "text": [
      "DB_PORT:  5432\n",
      "DB_HOST:  localhost\n",
      "DB_USER:  tntuser\n",
      "DB_PASSWORD:  tntdemo\n",
      "DB_NAME:  demo\n"
     ]
    }
   ],
   "source": [
    "print(\"DB_PORT: \", os.getenv(\"DB_PORT\"))\n",
    "print(\"DB_HOST: \", os.getenv(\"DB_HOST\"))\n",
    "print(\"DB_USER: \", os.getenv(\"DB_USER\"))\n",
    "print(\"DB_PASSWORD: \", os.getenv(\"DB_PASSWORD\"))\n",
    "print(\"DB_NAME: \", os.getenv(\"DB_NAME\"))\n"
   ]
  },
  {
   "cell_type": "code",
   "execution_count": 4,
   "metadata": {},
   "outputs": [],
   "source": [
    "from decimal import Decimal\n",
    "\n",
    "class DatabaseConnector:\n",
    "    def __init__(self):\n",
    "        self.create_connection()\n",
    "\n",
    "    @kernel_function(description=\"Create a connection object to the postgres database.\")\n",
    "    def create_connection(self):\n",
    "        print(\"create_connection function called... \")\n",
    "        connection = psycopg2.connect(\n",
    "            dbname=os.getenv(\"DB_NAME\"),\n",
    "            user=os.getenv(\"DB_USER\"),\n",
    "            password=os.getenv(\"DB_PASSWORD\"),\n",
    "            host=os.getenv(\"DB_HOST\"),\n",
    "            port=os.getenv(\"DB_PORT\")\n",
    "        )\n",
    "        self.connection = connection\n",
    "        self.cursor = self.connection.cursor(cursor_factory=RealDictCursor)\n",
    "\n",
    "    @kernel_function(description=\"Fetches user information for a given account id.\")\n",
    "    def query_database(self, query: Annotated[str, \"query to be executed\"]) -> Annotated[str, \"Returns the queried information as a json\"]:\n",
    "        \"\"\"\n",
    "        Fetches the information from the required table in PostgreSQL database.\n",
    "\n",
    "        :param query (str): the query to be executed.\n",
    "        :return: fetched information as a JSON string.\n",
    "        :rtype: str\n",
    "        \"\"\"\n",
    "        print(\"query_database function called... query: \", query)\n",
    "        try:\n",
    "            cursor = self.cursor\n",
    "            cursor.execute(query=query)\n",
    "            result_record = cursor.fetchone()\n",
    "            if result_record:\n",
    "                # Convert Decimal values to strings\n",
    "                for key, value in result_record.items():\n",
    "                    if isinstance(value, Decimal):\n",
    "                        result_record[key] = str(value)\n",
    "                return json.dumps({\"result_record\": result_record})\n",
    "            else:\n",
    "                return json.dumps({\"error\": \"An error occured while fetching the data.\"})\n",
    "        except Exception as e:\n",
    "            return json.dumps({\"error\": str(e)})\n",
    "        \n",
    "        \n",
    "    \n",
    "    @kernel_function(description=\"Closes the connection to the database.\")\n",
    "    def close_connection(self) -> Annotated[str, \"Returns a message indicating the status of the connection closure.\"]:\n",
    "        \"\"\"\n",
    "        Closes the connection to the PostgreSQL database.\n",
    "\n",
    "        :return: Message indicating the status of the connection closure.\n",
    "        :rtype: str\n",
    "        \"\"\"\n",
    "        print(\"close_connection function called... \")\n",
    "        try:\n",
    "            if self.connection:\n",
    "                self.cursor.close()\n",
    "                self.connection.close()\n",
    "            return \"Connection closed successfully.\"\n",
    "        except Exception as e:\n",
    "            return str(e)"
   ]
  },
  {
   "cell_type": "code",
   "execution_count": 5,
   "metadata": {},
   "outputs": [
    {
     "name": "stdout",
     "output_type": "stream",
     "text": [
      "create_connection function called... \n"
     ]
    }
   ],
   "source": [
    "accounts_instance = DatabaseConnector()"
   ]
  },
  {
   "cell_type": "code",
   "execution_count": 6,
   "metadata": {},
   "outputs": [
    {
     "name": "stdout",
     "output_type": "stream",
     "text": [
      "create_connection function called... \n"
     ]
    }
   ],
   "source": [
    "accounts_instance.create_connection()"
   ]
  },
  {
   "cell_type": "code",
   "execution_count": 7,
   "metadata": {},
   "outputs": [
    {
     "name": "stdout",
     "output_type": "stream",
     "text": [
      "query_database function called... query:  SELECT * FROM accounts WHERE account_id = 1\n"
     ]
    },
    {
     "data": {
      "text/plain": [
       "'{\"result_record\": {\"account_id\": 1, \"name\": \"HBL\", \"email\": \"abcd@gef.com\", \"phone\": \"9876543210\", \"balance\": \"99034.50\"}}'"
      ]
     },
     "execution_count": 7,
     "metadata": {},
     "output_type": "execute_result"
    }
   ],
   "source": [
    "accounts_instance.query_database(\"SELECT * FROM accounts WHERE account_id = 1\")"
   ]
  },
  {
   "cell_type": "code",
   "execution_count": 8,
   "metadata": {},
   "outputs": [
    {
     "name": "stdout",
     "output_type": "stream",
     "text": [
      "close_connection function called... \n"
     ]
    },
    {
     "data": {
      "text/plain": [
       "'Connection closed successfully.'"
      ]
     },
     "execution_count": 8,
     "metadata": {},
     "output_type": "execute_result"
    }
   ],
   "source": [
    "accounts_instance.close_connection()"
   ]
  },
  {
   "cell_type": "code",
   "execution_count": 9,
   "metadata": {},
   "outputs": [],
   "source": [
    "# Simulate a conversation with the agent\n",
    "USER_INPUTS = [\n",
    "    \"Hello\",\n",
    "    \"Could you please give me more information about the account id 1 ?\",\n",
    "    \"No more questions. Thank you!\",\n",
    "]\n"
   ]
  },
  {
   "cell_type": "code",
   "execution_count": 10,
   "metadata": {},
   "outputs": [],
   "source": [
    "USER_INPUTS = [\n",
    "    \"Hello\",\n",
    "    \"Could you please find the account with maximum balance? Display only the name and balance of the account.\",\n",
    "    \"No more questions. Thank you!\",\n",
    "]"
   ]
  },
  {
   "cell_type": "code",
   "execution_count": null,
   "metadata": {},
   "outputs": [
    {
     "name": "stdout",
     "output_type": "stream",
     "text": [
      "create_connection function called... \n"
     ]
    }
   ],
   "source": [
    "# 1. Create the instance of the Kernel to register the plugin and service\n",
    "service_id = \"agent\" \n",
    "endpoint = os.getenv(\"AZURE_OPENAI_ENDPOINT\")\n",
    "kernel = Kernel()\n",
    "\n",
    "kernel.add_plugin(DatabaseConnector(), plugin_name=\"db_plugin\")\n",
    "kernel.add_service(\n",
    "            AzureChatCompletion(service_id=service_id,\n",
    "                                api_key=os.getenv(\"AZURE_OPENAI_API_KEY\"),\n",
    "                                deployment_name=os.getenv(\"AZURE_OPENAI_CHAT_COMPLETION_MODEL\"),\n",
    "                                endpoint=os.getenv(\"AZURE_OPENAI_ENDPOINT\"),\n",
    "                                \n",
    "            ))                        "
   ]
  },
  {
   "cell_type": "code",
   "execution_count": 12,
   "metadata": {},
   "outputs": [],
   "source": [
    "# 2. Configure the function choice behavior to auto invoke kernel functions\n",
    "# so that the agent can automatically execute the Database plugin functions when needed\n",
    "settings = kernel.get_prompt_execution_settings_from_service_id(service_id=service_id)\n",
    "settings.function_choice_behavior = FunctionChoiceBehavior.Auto()\n",
    "\n",
    "# for parallel executions of the agent\n",
    "# options = FunctionChoiceBehaviorOptions(allow_concurrent_invocation=True)\n",
    "# settings.function_choice_behavior = FunctionChoiceBehavior.Auto(options)\n"
   ]
  },
  {
   "cell_type": "code",
   "execution_count": null,
   "metadata": {},
   "outputs": [],
   "source": [
    "# 3. Create the agent\n",
    "agent = ChatCompletionAgent(\n",
    "    kernel=kernel,\n",
    "    name=\"Host\",\n",
    "    instructions=\"\"\"You are a helpful Software Engineer with expertise in SQL queries. Answer the user question by retrieving required information from database tables. \n",
    "    Account information is stored in the 'accounts' table and the schema is as follows:\n",
    "    account_id: int, name: text, balance: decimal, email: text, phone: text, address: text\n",
    "    \n",
    "    The user will ask questions about the account information by providing the account_id.\n",
    "    \n",
    "    Write the response in a clear and concise manner in a short paragraph.\n",
    "    Remember to create the connection first and then query the database as needed. \n",
    "    After the customer confirms there are no more questions, close the Database connection\"\"\",\n",
    "    arguments=KernelArguments(settings=settings), \n",
    ")\n"
   ]
  },
  {
   "cell_type": "code",
   "execution_count": 14,
   "metadata": {},
   "outputs": [],
   "source": [
    "# 4. Create a chat history to hold the conversation\n",
    "chat_history = ChatHistory()"
   ]
  },
  {
   "cell_type": "code",
   "execution_count": 15,
   "metadata": {},
   "outputs": [
    {
     "name": "stdout",
     "output_type": "stream",
     "text": [
      "# User: Hello\n",
      "# Host: Hello! How can I assist you with your account information today?\n",
      "# User: Could you please find the account with maximum balance? Display only the name and balance of the account.\n",
      "create_connection function called... \n",
      "query_database function called... query:  SELECT name, balance FROM accounts ORDER BY balance DESC LIMIT 1;\n",
      "# Host: The account with the maximum balance belongs to \"Vikas\" with a balance of ₹123,456.00. Let me know if you have any further questions!\n",
      "# User: No more questions. Thank you!\n",
      "create_connection function called... \n",
      "query_database function called... query:  SELECT name, balance FROM accounts ORDER BY balance DESC LIMIT 1;\n",
      "close_connection function called... \n",
      "# Host: The account with the maximum balance belongs to \"Vikas\" with a balance of 123,456.00. If you have more questions in the future, feel free to ask. Thank you!\n"
     ]
    }
   ],
   "source": [
    "for user_input in USER_INPUTS:\n",
    "    # 5. Add the user input to the chat history\n",
    "    chat_history.add_user_message(user_input)\n",
    "    print(f\"# User: {user_input}\")\n",
    "    # 6. Invoke the agent for a response\n",
    "    async for content in agent.invoke(messages=chat_history):\n",
    "        print(f\"# {content.name}: \", end=\"\")\n",
    "        if (\n",
    "            not any(isinstance(item, (FunctionCallContent, FunctionResultContent)) for item in content.items)\n",
    "            and content.content\n",
    "        ):\n",
    "            # We only want to print the content if it's not a function call or result\n",
    "            print(f\"{content.content}\", end=\"\", flush=True)\n",
    "    print(\"\")  # Print a newline to separate the messages"
   ]
  },
  {
   "cell_type": "code",
   "execution_count": null,
   "metadata": {},
   "outputs": [],
   "source": []
  }
 ],
 "metadata": {
  "kernelspec": {
   "display_name": ".venv",
   "language": "python",
   "name": "python3"
  },
  "language_info": {
   "codemirror_mode": {
    "name": "ipython",
    "version": 3
   },
   "file_extension": ".py",
   "mimetype": "text/x-python",
   "name": "python",
   "nbconvert_exporter": "python",
   "pygments_lexer": "ipython3",
   "version": "3.11.2"
  }
 },
 "nbformat": 4,
 "nbformat_minor": 2
}
