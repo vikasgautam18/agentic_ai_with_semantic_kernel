{
 "cells": [
  {
   "cell_type": "code",
   "execution_count": 1,
   "metadata": {},
   "outputs": [],
   "source": [
    "from semantic_kernel.agents import AgentGroupChat\n",
    "from semantic_kernel.agents.strategies import TerminationStrategy"
   ]
  },
  {
   "cell_type": "code",
   "execution_count": 2,
   "metadata": {},
   "outputs": [],
   "source": [
    "from semantic_kernel import Kernel\n",
    "from semantic_kernel.agents import ChatCompletionAgent\n",
    "from semantic_kernel.connectors.ai.open_ai import AzureChatCompletion\n",
    "from semantic_kernel.functions import kernel_function\n",
    "\n",
    "from typing import Annotated"
   ]
  },
  {
   "cell_type": "code",
   "execution_count": 3,
   "metadata": {},
   "outputs": [
    {
     "data": {
      "text/plain": [
       "True"
      ]
     },
     "execution_count": 3,
     "metadata": {},
     "output_type": "execute_result"
    }
   ],
   "source": [
    "import json\n",
    "import os\n",
    "from dotenv import load_dotenv\n",
    "import psycopg2\n",
    "from psycopg2.extras import RealDictCursor\n",
    "load_dotenv()"
   ]
  },
  {
   "cell_type": "code",
   "execution_count": 4,
   "metadata": {},
   "outputs": [],
   "source": [
    "def _create_kernel_with_chat_completion(service_id: str) -> Kernel:\n",
    "    kernel = Kernel()\n",
    "    kernel.add_service(AzureChatCompletion(service_id=service_id, \n",
    "                                        api_key=os.getenv(\"AZURE_OPENAI_API_KEY\"),\n",
    "                                        deployment_name=os.getenv(\"AZURE_OPENAI_CHAT_COMPLETION_MODEL\"),\n",
    "                                        endpoint=os.getenv(\"AZURE_OPENAI_ENDPOINT\"),\n",
    "                                        ))\n",
    "    return kernel"
   ]
  },
  {
   "cell_type": "code",
   "execution_count": 5,
   "metadata": {},
   "outputs": [],
   "source": [
    "class ApprovalTerminationStrategy(TerminationStrategy):\n",
    "    \"\"\"A strategy for determining when an agent should terminate.\"\"\"\n",
    "\n",
    "    async def should_agent_terminate(self, agent, history):\n",
    "        \"\"\"Check if the agent should terminate.\"\"\"\n",
    "        return \"approved\" in history[-1].content.lower()"
   ]
  },
  {
   "cell_type": "code",
   "execution_count": 6,
   "metadata": {},
   "outputs": [],
   "source": [
    "from decimal import Decimal\n",
    "\n",
    "class DatabaseConnector:\n",
    "    def __init__(self):\n",
    "        self.create_connection()\n",
    "\n",
    "    @kernel_function(description=\"Create a connection object to the postgres database.\")\n",
    "    def create_connection(self):\n",
    "        print(\"create_connection function called... \")\n",
    "        connection = psycopg2.connect(\n",
    "            dbname=os.getenv(\"DB_NAME\"),\n",
    "            user=os.getenv(\"DB_USER\"),\n",
    "            password=os.getenv(\"DB_PASSWORD\"),\n",
    "            host=os.getenv(\"DB_HOST\"),\n",
    "            port=os.getenv(\"DB_PORT\")\n",
    "        )\n",
    "        self.connection = connection\n",
    "        self.cursor = self.connection.cursor(cursor_factory=RealDictCursor)\n",
    "\n",
    "    @kernel_function(description=\"Fetches user information for a given account id.\")\n",
    "    def query_database(self, query: Annotated[str, \"query to be executed\"]) -> Annotated[str, \"Returns the queried information as a json\"]:\n",
    "        \"\"\"\n",
    "        Fetches the information from the required table in PostgreSQL database.\n",
    "\n",
    "        :param query (str): the query to be executed.\n",
    "        :return: fetched information as a JSON string.\n",
    "        :rtype: str\n",
    "        \"\"\"\n",
    "        print(\"query_database function called... query: \", query)\n",
    "        try:\n",
    "            # if(self.connection != True):\n",
    "            #     self.create_connection()\n",
    "            \n",
    "            #connection = self.connection\n",
    "            cursor = self.cursor\n",
    "            cursor.execute(query=query)\n",
    "            result_record = cursor.fetchone()\n",
    "            if result_record:\n",
    "                # Convert Decimal values to strings\n",
    "                for key, value in result_record.items():\n",
    "                    if isinstance(value, Decimal):\n",
    "                        result_record[key] = str(value)\n",
    "                return json.dumps({\"result_record\": result_record})\n",
    "            else:\n",
    "                return json.dumps({\"error\": \"An error occured while fetching the data.\"})\n",
    "        except Exception as e:\n",
    "            return json.dumps({\"error\": str(e)})\n",
    "        # finally:\n",
    "        #     if connection:\n",
    "        #         self.close_connection()\n",
    "        \n",
    "    \n",
    "    @kernel_function(description=\"Closes the connection to the database.\")\n",
    "    def close_connection(self) -> Annotated[str, \"Returns a message indicating the status of the connection closure.\"]:\n",
    "        \"\"\"\n",
    "        Closes the connection to the PostgreSQL database.\n",
    "\n",
    "        :return: Message indicating the status of the connection closure.\n",
    "        :rtype: str\n",
    "        \"\"\"\n",
    "        print(\"close_connection function called... \")\n",
    "        try:\n",
    "            if self.connection:\n",
    "                self.cursor.close()\n",
    "                self.connection.close()\n",
    "            return \"Connection closed successfully.\"\n",
    "        except Exception as e:\n",
    "            return str(e)"
   ]
  },
  {
   "cell_type": "code",
   "execution_count": 7,
   "metadata": {},
   "outputs": [
    {
     "name": "stdout",
     "output_type": "stream",
     "text": [
      "create_connection function called... \n",
      "create_connection function called... \n",
      "query_database function called... query:  select * from customerdata where customer_id = '136743'\n",
      "{\"result_record\": {\"customer_id\": 136743, \"card_blocked\": true, \"payment_due\": false, \"card_type\": \"MasterCard\", \"credit_card_no\": 1234567812345678}}\n",
      "close_connection function called... \n"
     ]
    },
    {
     "data": {
      "text/plain": [
       "'Connection closed successfully.'"
      ]
     },
     "execution_count": 7,
     "metadata": {},
     "output_type": "execute_result"
    }
   ],
   "source": [
    "acc = DatabaseConnector()\n",
    "acc.create_connection()\n",
    "print(acc.query_database(\"select * from customerdata where customer_id = '136743'\"))\n",
    "acc.close_connection()"
   ]
  },
  {
   "cell_type": "code",
   "execution_count": 8,
   "metadata": {},
   "outputs": [],
   "source": [
    "def _create_kernel_with_chat_completion_and_plugin(service_id: str) -> Kernel:\n",
    "    kernel = Kernel()\n",
    "    kernel.add_service(AzureChatCompletion(service_id=service_id, \n",
    "                                        api_key=os.getenv(\"AZURE_OPENAI_API_KEY\"),\n",
    "                                        deployment_name=os.getenv(\"AZURE_OPENAI_CHAT_COMPLETION_MODEL\"),\n",
    "                                        endpoint=os.getenv(\"AZURE_OPENAI_ENDPOINT\"),\n",
    "                                        ))\n",
    "    kernel.add_plugin(DatabaseConnector(), plugin_name=\"db_connector\")\n",
    "    return kernel"
   ]
  },
  {
   "cell_type": "code",
   "execution_count": 9,
   "metadata": {},
   "outputs": [],
   "source": [
    "TRANSCRIPTION_REVIEWER = \"TranscriptionReviewer\"\n",
    "TRANSCRIPTION_REVIEWER_INSTRUCTIONS = \"\"\"\n",
    "As a transcription reviewer, your task is to review a conversation between a customer service agent and a customer. \n",
    "Your goal is to determine if the customer's card is blocked.\n",
    "\n",
    "Follow these steps:\n",
    "\n",
    "Examine the conversation transcript to check if the customer's card is blocked.\n",
    "If the card is blocked, extract the customer ID from the transcript and provide it to the Orchestrator.\n",
    "If the card is not blocked, provide a response stating that you are skipping this transcript as it is not related to Card Blocking.\n",
    "\"\"\"\n",
    "\n",
    "ANALYST_NAME = \"BusinessAnalyst\"\n",
    "ANALYST_INSTRUCTIONS = \"\"\"\n",
    "As a highly skilled business analyst with extensive experience in writing and executing SQL queries, your task is to determine the reason for a blocked card by executing necessary SQL queries. \n",
    "\n",
    "Follow these best practices:\n",
    "1. Fix SQL Errors: Ensure all SQL queries are syntactically correct and free of errors.\n",
    "2. Execute Queries: Do not make any assumptions about query results. Execute the necessary SQL queries to obtain accurate information.\n",
    "\n",
    "You have access to a PostgreSQL database containing information about customers and their credit card transactions. The database includes two tables:\n",
    "- `customerdata`: Columns include `customer_id`: integer, `card_blocked`: boolean, `payment_due`: boolean, `card_type`: varchar, and `credit_card_no`: bigint.\n",
    "- `credit_card_transactions`: Columns include `credit_card_no`: varchar, `date`: timestamp, `amount`: decimal, `authentication_passed`: boolean, and `location`: varchar.\n",
    "\n",
    "You will receive a customer ID from the Orchestrator. Follow these steps to determine the reason for the blocked card:\n",
    "1. Check the `card_blocked` column in the `customerdata` table to see if the card is blocked.\n",
    "2. If the card is not blocked, inform the Orchestrator that the card is not blocked and the transcript is being skipped as it is not related to Card Blocking.\n",
    "3. If the card is blocked, check the `credit_card_transactions` table for more than three authentication failures recently.\n",
    "4. If there are more than three authentication failures recently, the card is blocked due to authentication failures. \n",
    "5. If there are zero or less than 3 authentication failures, the card is blocked due to an unknown reason. \n",
    "\n",
    "Provide the reason (authentication failure or unknown) to the Orchestrator.\n",
    "\n",
    "\"\"\"\n",
    "\n",
    "ORCHESTRATOR_NAME = \"Orchestrator\"\n",
    "ORCHESTRATOR_INSTRUCTIONS = \"\"\"\n",
    "As an orchestrator, your task is to coordinate the work of the transcription reviewer and the business analyst to determine the reason for a blocked card and communicate the findings to the customer.\n",
    "\n",
    "Follow these steps:\n",
    "1. Receive the customer ID from the transcription reviewer.\n",
    "2. Pass the customer ID to the business analyst and request them to determine the reason for the blocked card by executing the necessary SQL queries.\n",
    "3. If the transcription reviewer states that the card is not blocked, conclude that the transcript is being skipped as it is not related to card blocking.\n",
    "4. After receiving the analysis with a known reason for the issue from the business analyst, draft an email to the customer with the analysis provided.\n",
    "5. If the reason is unknown, email the customer success team (copying the customer) that this needs to be further analyzed by them.\n",
    "5. Approve the analysis by using keywords such as \"approved\" or \"not approved\" after drafting the email.\n",
    "6. If the analysis is not approved, provide feedback to the business analyst for further improvements.\n",
    "\n",
    "Best Practices:\n",
    "- Ensure clear and concise communication between the transcription reviewer and the business analyst.\n",
    "- Verify the syntax of the SQL queries executed by the business analyst and point out any errors.\n",
    "- When asking a question to the business analyst or transcription reviewer, be specific and clear.\n",
    "- Maintain a professional and empathetic tone in the email to the customer.\n",
    "- Double-check the analysis before approving it to ensure it is thorough and accurate.\n",
    "\n",
    "\"\"\"\n",
    "\n",
    "TASK = \"Read transcript and determine the reason for blocked card\""
   ]
  },
  {
   "cell_type": "code",
   "execution_count": 10,
   "metadata": {},
   "outputs": [],
   "source": [
    "# 1. Create the reviewer agent based on the chat completion service\n",
    "agent_reviewer = ChatCompletionAgent(\n",
    "    kernel=_create_kernel_with_chat_completion(\"TranscriptionReviewer\"),\n",
    "    name=TRANSCRIPTION_REVIEWER,\n",
    "    instructions=TRANSCRIPTION_REVIEWER_INSTRUCTIONS,\n",
    ")"
   ]
  },
  {
   "cell_type": "code",
   "execution_count": 11,
   "metadata": {},
   "outputs": [
    {
     "name": "stdout",
     "output_type": "stream",
     "text": [
      "create_connection function called... \n"
     ]
    }
   ],
   "source": [
    "# 2. Create the copywriter agent based on the chat completion service\n",
    "agent_analyst = ChatCompletionAgent(\n",
    "    kernel=_create_kernel_with_chat_completion_and_plugin(\"BusinessAnalyst\"),\n",
    "    name=ANALYST_NAME,\n",
    "    instructions=ANALYST_INSTRUCTIONS,\n",
    "    \n",
    ")"
   ]
  },
  {
   "cell_type": "code",
   "execution_count": 12,
   "metadata": {},
   "outputs": [],
   "source": [
    "# 3. Create the reviewer agent based on the chat completion service\n",
    "agent_orchestrator = ChatCompletionAgent(\n",
    "    kernel=_create_kernel_with_chat_completion(\"Orchestrator\"),\n",
    "    name=ORCHESTRATOR_NAME,\n",
    "    instructions=ORCHESTRATOR_INSTRUCTIONS,\n",
    ")"
   ]
  },
  {
   "cell_type": "code",
   "execution_count": 13,
   "metadata": {},
   "outputs": [],
   "source": [
    "# 4. Place the agents in a group chat with a custom termination strategy\n",
    "group_chat = AgentGroupChat(\n",
    "    agents=[\n",
    "        agent_reviewer,\n",
    "        agent_analyst,\n",
    "        agent_orchestrator \n",
    "        \n",
    "    ],\n",
    "    termination_strategy=ApprovalTerminationStrategy(\n",
    "        agents=[agent_orchestrator],\n",
    "        maximum_iterations=100,\n",
    "    ),\n",
    ")"
   ]
  },
  {
   "cell_type": "code",
   "execution_count": 14,
   "metadata": {},
   "outputs": [],
   "source": [
    "from semantic_kernel.agents.group_chat.agent_chat import ChatMessageContent\n",
    "\n",
    "message_content = ChatMessageContent(role=\"user\", content=\"\"\" \n",
    "                                     Customer ID : 136743\n",
    "Date: 16-03-2025 10:29:30\n",
    "\n",
    "Call Transcript:            \n",
    "            \n",
    "Agent: how can I help you today? \n",
    "Customer: My card is blocked, could you please help me with that?\n",
    "Agent: I am sorry to hear that. Can you please provide me with your name, contact number, email id and address to unblock the card?\n",
    "Customer: My name is Vikas, contact number is 1234567890, email id is vsdsdf@gmail.com and address is 1234, 5th Avenue, New York, NY 10001\n",
    "Agent: Thank you for providing the details. I have raised a request for this to be looked at immediately. You will receive a confirmation email shortly. Is there anything else I can help you with?\n",
    "Customer: No, that is all. Thank you.\n",
    "Agent: You're welcome. Have a great day!                                     \n",
    "                                     \"\"\")"
   ]
  },
  {
   "cell_type": "code",
   "execution_count": 15,
   "metadata": {},
   "outputs": [],
   "source": [
    "# 4. Add the task as a message to the group chat\n",
    "await group_chat.add_chat_message(message_content)\n"
   ]
  },
  {
   "cell_type": "code",
   "execution_count": 16,
   "metadata": {},
   "outputs": [
    {
     "name": "stdout",
     "output_type": "stream",
     "text": [
      "# TranscriptionReviewer: The customer's card is blocked. The customer ID is **136743**.\n",
      "\n",
      "Providing this information to the Orchestrator.\n",
      "create_connection function called... \n",
      "query_database function called... query:  SELECT card_blocked FROM customerdata WHERE customer_id = 136743;\n",
      "query_database function called... query:  SELECT COUNT(*) AS auth_failures_recent FROM credit_card_transactions WHERE credit_card_no = (SELECT credit_card_no FROM customerdata WHERE customer_id = 136743) AND authentication_passed = false AND date >= NOW() - interval '30 days';\n",
      "query_database function called... query:  SELECT COUNT(*) AS auth_failures_recent FROM credit_card_transactions WHERE credit_card_no = CAST((SELECT credit_card_no FROM customerdata WHERE customer_id = 136743) AS varchar) AND authentication_passed = false AND date >= NOW() - interval '30 days';\n",
      "close_connection function called... \n",
      "# BusinessAnalyst: The database transaction was aborted due to an error that occurred during the query execution. I will reestablish the connection and continue to analyze the reason behind the blocked card.\n",
      "# Orchestrator: Thank you for providing the customer ID, transcription reviewer.\n",
      "\n",
      "I will now coordinate with the business analyst to determine the reason for the blocked card.\n",
      "# TranscriptionReviewer: The customer's card is blocked. The customer ID is **136743**.\n",
      "\n",
      "Providing this information to the Orchestrator.\n",
      "create_connection function called... \n",
      "query_database function called... query:  SELECT card_blocked FROM customerdata WHERE customer_id = 136743;\n",
      "query_database function called... query:  SELECT COUNT(*) AS auth_failures_recent FROM credit_card_transactions WHERE credit_card_no = (SELECT CAST(credit_card_no AS varchar) FROM customerdata WHERE customer_id = 136743) AND authentication_passed = false AND date >= NOW() - interval '30 days';\n",
      "close_connection function called... \n",
      "# BusinessAnalyst: The card associated with customer ID **136743** is blocked due to an **unknown reason**. There have been **0 authentication failures** recently. \n",
      "\n",
      "This information is now provided to the Orchestrator.\n",
      "# Orchestrator: Thank you, business analyst. Since the reason for the blocked card is identified as unknown, let me draft an email to the customer success team copying the customer, asking them for further investigation.\n",
      "# TranscriptionReviewer: The customer's card is blocked. The customer ID is **136743**.\n",
      "\n",
      "Providing this information to the Orchestrator.\n",
      "create_connection function called... \n",
      "query_database function called... query:  SELECT card_blocked FROM customerdata WHERE customer_id = 136743;\n",
      "query_database function called... query:  SELECT COUNT(*) AS auth_failures_recent FROM credit_card_transactions WHERE credit_card_no = (SELECT credit_card_no FROM customerdata WHERE customer_id = 136743) AND authentication_passed = false AND date >= NOW() - interval '30 days';\n",
      "query_database function called... query:  SELECT COUNT(*) AS auth_failures_recent FROM credit_card_transactions WHERE credit_card_no = CAST((SELECT credit_card_no FROM customerdata WHERE customer_id = 136743) AS varchar) AND authentication_passed = false AND date >= NOW() - interval '30 days';\n",
      "close_connection function called... \n",
      "# BusinessAnalyst: The database transaction was aborted due to an error that occurred during the query execution. I will reestablish the connection and continue to analyze the reason behind the blocked card.\n",
      "# Orchestrator: Let me reconnect with the business analyst to resolve and move forward with this issue. Stay tuned.\n",
      "# TranscriptionReviewer: The customer's card is blocked. The customer ID is **136743**.\n",
      "\n",
      "Providing this information to the Orchestrator.\n",
      "create_connection function called... \n",
      "query_database function called... query:  SELECT card_blocked FROM customerdata WHERE customer_id = 136743;\n",
      "query_database function called... query:  SELECT COUNT(*) AS auth_failures_recent FROM credit_card_transactions WHERE credit_card_no = CAST((SELECT credit_card_no FROM customerdata WHERE customer_id = 136743) AS varchar) AND authentication_passed = false AND date >= NOW() - interval '30 days';\n",
      "close_connection function called... \n",
      "# BusinessAnalyst: The card associated with customer ID **136743** is blocked due to an **unknown reason**. There have been **0 authentication failures** recently. \n",
      "\n",
      "This information is now provided to the Orchestrator.\n",
      "# Orchestrator: Thank you for the detailed analysis. Drafting an email now:\n",
      "\n",
      "---\n",
      "\n",
      "Subject: Further Investigation Required for Blocked Card\n",
      "\n",
      "Dear Vikas,\n",
      "\n",
      "We understand that your card associated with customer ID **136743** is currently blocked. Upon our initial review, we are unable to determine the exact reason for the card blocking.\n",
      "\n",
      "To ensure your issue is resolved promptly, we have escalated this matter to the Customer Success Team for further investigation. You will be copied on all communications, and we will keep you updated on the progress.\n",
      "\n",
      "Thank you for your patience and understanding.\n",
      "\n",
      "Best regards,  \n",
      "[Your Name]  \n",
      "Support Team  \n",
      "Customer Success Division  \n",
      "\n",
      "---\n",
      "\n",
      "This analysis and draft email are **approved**.\n"
     ]
    }
   ],
   "source": [
    "# 5. Invoke the chat\n",
    "async for content in group_chat.invoke():\n",
    "    print(f\"# {content.name}: {content.content}\")\n"
   ]
  },
  {
   "cell_type": "code",
   "execution_count": null,
   "metadata": {},
   "outputs": [],
   "source": []
  },
  {
   "cell_type": "code",
   "execution_count": null,
   "metadata": {},
   "outputs": [],
   "source": []
  }
 ],
 "metadata": {
  "kernelspec": {
   "display_name": ".venv",
   "language": "python",
   "name": "python3"
  },
  "language_info": {
   "codemirror_mode": {
    "name": "ipython",
    "version": 3
   },
   "file_extension": ".py",
   "mimetype": "text/x-python",
   "name": "python",
   "nbconvert_exporter": "python",
   "pygments_lexer": "ipython3",
   "version": "3.11.2"
  }
 },
 "nbformat": 4,
 "nbformat_minor": 2
}
