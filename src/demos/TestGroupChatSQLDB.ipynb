{
 "cells": [
  {
   "cell_type": "code",
   "execution_count": 1,
   "metadata": {},
   "outputs": [],
   "source": [
    "import asyncio\n",
    "\n",
    "from semantic_kernel import Kernel\n",
    "from semantic_kernel.agents import AgentGroupChat, ChatCompletionAgent\n",
    "from semantic_kernel.agents.strategies import TerminationStrategy\n",
    "from semantic_kernel.connectors.ai.open_ai import AzureChatCompletion"
   ]
  },
  {
   "cell_type": "code",
   "execution_count": 2,
   "metadata": {},
   "outputs": [],
   "source": [
    "from semantic_kernel import Kernel\n",
    "from semantic_kernel.agents import ChatCompletionAgent\n",
    "from semantic_kernel.connectors.ai import FunctionChoiceBehavior\n",
    "from semantic_kernel.connectors.ai.open_ai import AzureChatCompletion\n",
    "from semantic_kernel.contents import ChatHistory, FunctionCallContent, FunctionResultContent\n",
    "from semantic_kernel.functions import KernelArguments, kernel_function\n",
    "\n",
    "from typing import Annotated"
   ]
  },
  {
   "cell_type": "code",
   "execution_count": 3,
   "metadata": {},
   "outputs": [
    {
     "data": {
      "text/plain": [
       "True"
      ]
     },
     "execution_count": 3,
     "metadata": {},
     "output_type": "execute_result"
    }
   ],
   "source": [
    "import json\n",
    "import os\n",
    "from dotenv import load_dotenv\n",
    "import psycopg2\n",
    "from psycopg2.extras import RealDictCursor\n",
    "load_dotenv()"
   ]
  },
  {
   "cell_type": "code",
   "execution_count": 4,
   "metadata": {},
   "outputs": [],
   "source": [
    "def _create_kernel_with_chat_completion(service_id: str) -> Kernel:\n",
    "    kernel = Kernel()\n",
    "    kernel.add_service(AzureChatCompletion(service_id=service_id, \n",
    "                                        api_key=os.getenv(\"AZURE_OPENAI_API_KEY\"),\n",
    "                                        deployment_name=os.getenv(\"AZURE_OPENAI_CHAT_COMPLETION_MODEL\"),\n",
    "                                        endpoint=os.getenv(\"AZURE_OPENAI_ENDPOINT\"),\n",
    "                                        ))\n",
    "    return kernel"
   ]
  },
  {
   "cell_type": "code",
   "execution_count": 5,
   "metadata": {},
   "outputs": [],
   "source": [
    "class ApprovalTerminationStrategy(TerminationStrategy):\n",
    "    \"\"\"A strategy for determining when an agent should terminate.\"\"\"\n",
    "\n",
    "    async def should_agent_terminate(self, agent, history):\n",
    "        \"\"\"Check if the agent should terminate.\"\"\"\n",
    "        return \"approved\" in history[-1].content.lower()"
   ]
  },
  {
   "cell_type": "code",
   "execution_count": 6,
   "metadata": {},
   "outputs": [],
   "source": [
    "from decimal import Decimal\n",
    "\n",
    "class Accounts:\n",
    "    def __init__(self):\n",
    "        connection = psycopg2.connect(\n",
    "            dbname=os.getenv(\"DB_NAME\"),\n",
    "            user=os.getenv(\"DB_USER\"),\n",
    "            password=os.getenv(\"DB_PASSWORD\"),\n",
    "            host=os.getenv(\"DB_HOST\"),\n",
    "            port=os.getenv(\"DB_PORT\")\n",
    "        )\n",
    "        self.connection = connection\n",
    "        self.cursor = self.connection.cursor(cursor_factory=RealDictCursor)\n",
    "\n",
    "    @kernel_function(description=\"Fetches information from a database for a given customer id.\")\n",
    "    def get_customer_info(self, customer_id: Annotated[str, \"customer id to look up\"]) -> Annotated[str, \"Returns the customer information.\"]:\n",
    "        \"\"\"\n",
    "        Fetches account information from the CustomerData table in PostgreSQL database.\n",
    "\n",
    "        :param customer_id (int): ID of the account.\n",
    "        :return: Customer information as a JSON string.\n",
    "        :rtype: str\n",
    "        \"\"\"\n",
    "        print(\"get_customer_info function called... \")\n",
    "        try:\n",
    "            connection = self.connection\n",
    "            cursor = self.cursor\n",
    "            cursor.execute(\"select * from CustomerData WHERE customer_id = %s\", (customer_id,))\n",
    "            customer_record = cursor.fetchone()\n",
    "            if customer_record:\n",
    "                # Convert Decimal values to strings\n",
    "                for key, value in customer_record.items():\n",
    "                    if isinstance(value, Decimal):\n",
    "                        customer_record[key] = str(value)\n",
    "                return json.dumps({\"customer_info\": customer_record})\n",
    "            else:\n",
    "                return json.dumps({\"error\": \"Customer not found.\"})\n",
    "        except Exception as e:\n",
    "            return json.dumps({\"error\": str(e)})\n",
    "        finally:\n",
    "            if connection:\n",
    "                cursor.close()\n",
    "                connection.close()"
   ]
  },
  {
   "cell_type": "code",
   "execution_count": 7,
   "metadata": {},
   "outputs": [
    {
     "name": "stdout",
     "output_type": "stream",
     "text": [
      "get_customer_info function called... \n"
     ]
    },
    {
     "data": {
      "text/plain": [
       "'{\"customer_info\": {\"customer_id\": 123456, \"card_blocked\": true, \"payment_due\": true, \"card_type\": \"Visa\"}}'"
      ]
     },
     "execution_count": 7,
     "metadata": {},
     "output_type": "execute_result"
    }
   ],
   "source": [
    "acc = Accounts()\n",
    "acc.get_customer_info(123456)"
   ]
  },
  {
   "cell_type": "code",
   "execution_count": 8,
   "metadata": {},
   "outputs": [],
   "source": [
    "def _create_kernel_with_chat_completion_and_plugin(service_id: str) -> Kernel:\n",
    "    kernel = Kernel()\n",
    "    kernel.add_service(AzureChatCompletion(service_id=service_id, \n",
    "                                        api_key=os.getenv(\"AZURE_OPENAI_API_KEY\"),\n",
    "                                        deployment_name=os.getenv(\"AZURE_OPENAI_CHAT_COMPLETION_MODEL\"),\n",
    "                                        endpoint=os.getenv(\"AZURE_OPENAI_ENDPOINT\"),\n",
    "                                        ))\n",
    "    kernel.add_plugin(Accounts(), plugin_name=\"accounts_plugin\")\n",
    "    return kernel"
   ]
  },
  {
   "cell_type": "code",
   "execution_count": 9,
   "metadata": {},
   "outputs": [],
   "source": [
    "TRANSCRIPTION_REVIEWER = \"TranscriptionReviewer\"\n",
    "TRANSCRIPTION_REVIEWER_INSTRUCTIONS = \"\"\"\n",
    "You are a transcription reviewer who has been tasked with reviewing a conversation between a customer service agent and a customer.\n",
    "The goal is to examine the conversation and determine if the customer's card is blocked. \n",
    "If so, extract the customer id from the transcript and provide it to the Orchestrator.\n",
    "if not, provide a response stating that you are skiping this transcript.\n",
    "\"\"\"\n",
    "\n",
    "ANALYST_NAME = \"BusinessAnalyst\"\n",
    "ANALYST_INSTRUCTIONS = \"\"\"\n",
    "You are a business analyst who has been tasked to query a table named CustomerData in a database.\n",
    "The table has the following columns: customer_id, card_blocked, payment_due, and card_type.\n",
    "If the card is blocked and payment is due, provide a response stating that the customer's card is blocked and payment is due.\n",
    "If the card is blocked and payment is not due, provide a response stating that the card is blocked due to some other reason.\n",
    "\"\"\"\n",
    "\n",
    "ORCHESTRATOR_NAME = \"Orchestrator\"\n",
    "ORCHESTRATOR_INSTRUCTIONS = \"\"\"\n",
    "You are an orchestrator who has been tasked with coordinating the work of the transcription reviewer and the business analyst.\n",
    "You will receive the customer id from the transcription reviewer and pass it to the business analyst.\n",
    "If the reviwer provides a response stating that the card is not blocked, you will provide a response stating that the transcript is being skipped.\n",
    "After the analysis is provided by Business Analyst please approve the analysis using keyword \"approved\"\n",
    "\"\"\"\n",
    "\n",
    "TASK = \"Read transcript and determine the reason for blocked card\"\n",
    "\n",
    "# if the business analyst provides a response stating that the card is blocked and payment is due, you will provide a response stating that the customer's card is blocked and payment is due.\n",
    "# if the business analyst provides a response stating that the card is blocked due to some other reason, you will provide a response stating that the customer's card is blocked due to some other reason.\n"
   ]
  },
  {
   "cell_type": "code",
   "execution_count": 10,
   "metadata": {},
   "outputs": [],
   "source": [
    "# 1. Create the reviewer agent based on the chat completion service\n",
    "agent_reviewer = ChatCompletionAgent(\n",
    "    kernel=_create_kernel_with_chat_completion(\"TranscriptionReviewer\"),\n",
    "    name=TRANSCRIPTION_REVIEWER,\n",
    "    instructions=TRANSCRIPTION_REVIEWER_INSTRUCTIONS,\n",
    ")"
   ]
  },
  {
   "cell_type": "code",
   "execution_count": 11,
   "metadata": {},
   "outputs": [],
   "source": [
    "# 2. Create the copywriter agent based on the chat completion service\n",
    "agent_analyst = ChatCompletionAgent(\n",
    "    kernel=_create_kernel_with_chat_completion_and_plugin(\"BusinessAnalyst\"),\n",
    "    name=ANALYST_NAME,\n",
    "    instructions=ANALYST_INSTRUCTIONS,\n",
    "    \n",
    ")"
   ]
  },
  {
   "cell_type": "code",
   "execution_count": 12,
   "metadata": {},
   "outputs": [],
   "source": [
    "# 3. Create the reviewer agent based on the chat completion service\n",
    "agent_orchestrator = ChatCompletionAgent(\n",
    "    kernel=_create_kernel_with_chat_completion(\"Orchestrator\"),\n",
    "    name=ORCHESTRATOR_NAME,\n",
    "    instructions=ORCHESTRATOR_INSTRUCTIONS,\n",
    ")"
   ]
  },
  {
   "cell_type": "code",
   "execution_count": null,
   "metadata": {},
   "outputs": [],
   "source": [
    "# 4. Place the agents in a group chat with a custom termination strategy\n",
    "group_chat = AgentGroupChat(\n",
    "    agents=[\n",
    "        agent_reviewer,\n",
    "        agent_analyst,\n",
    "        agent_orchestrator \n",
    "        \n",
    "    ],\n",
    "    termination_strategy=ApprovalTerminationStrategy( # other termination strategies\n",
    "        agents=[agent_orchestrator],\n",
    "        maximum_iterations=10,\n",
    "    ),\n",
    ")"
   ]
  },
  {
   "cell_type": "code",
   "execution_count": 14,
   "metadata": {},
   "outputs": [],
   "source": [
    "from semantic_kernel.agents.group_chat.agent_chat import ChatMessageContent\n",
    "\n",
    "message_content = ChatMessageContent(role=\"user\", content=\"\"\" \n",
    "                                     Customer ID : 123456\n",
    "Date: 16-03-2025 10:23:30\n",
    "\n",
    "Call Transcript:\n",
    "            \n",
    "Agent: how can I help you today? \n",
    "Customer: My card is blocked, could you please help me with that?\n",
    "Agent: I am sorry to hear that. Can you please provide me with your name, contact number, email id and address to unblock the card?\n",
    "Customer: My name is Vikas, contact number is 1234567890, email id is vsdsdf@gmail.com and address is 1234, 5th Avenue, New York, NY 10001\n",
    "Agent: Thank you for providing the details. I have raised a request for this to be looked at immediately. You will receive a confirmation email shortly. Is there anything else I can help you with?\n",
    "Customer: No, that's all. Thank you.\n",
    "Agent: You are welcome. Have a great day!\n",
    "                                     \n",
    "                                     \"\"\")"
   ]
  },
  {
   "cell_type": "code",
   "execution_count": null,
   "metadata": {},
   "outputs": [],
   "source": [
    "# 4. Add the task as a message to the group chat\n",
    "await group_chat.add_chat_message(message_content)\n"
   ]
  },
  {
   "cell_type": "code",
   "execution_count": 16,
   "metadata": {},
   "outputs": [
    {
     "name": "stdout",
     "output_type": "stream",
     "text": [
      "# TranscriptionReviewer: The customer's card is blocked. \n",
      "\n",
      "Customer ID: 123456\n",
      "\n",
      "I will provide this to the Orchestrator.\n",
      "get_customer_info function called... \n",
      "# BusinessAnalyst: The customer's card is blocked, and payment is due.\n",
      "# Orchestrator: The transcript will be processed since the card is blocked. \n",
      "\n",
      "I will now proceed with the analysis provided. \n",
      "\n",
      "Analysis: The customer's card is blocked, and payment is due.\n",
      "\n",
      "Approved.\n"
     ]
    }
   ],
   "source": [
    "# 5. Invoke the chat\n",
    "async for content in group_chat.invoke():\n",
    "    print(f\"# {content.name}: {content.content}\")\n"
   ]
  },
  {
   "cell_type": "code",
   "execution_count": null,
   "metadata": {},
   "outputs": [],
   "source": []
  },
  {
   "cell_type": "code",
   "execution_count": null,
   "metadata": {},
   "outputs": [],
   "source": []
  }
 ],
 "metadata": {
  "kernelspec": {
   "display_name": ".venv",
   "language": "python",
   "name": "python3"
  },
  "language_info": {
   "codemirror_mode": {
    "name": "ipython",
    "version": 3
   },
   "file_extension": ".py",
   "mimetype": "text/x-python",
   "name": "python",
   "nbconvert_exporter": "python",
   "pygments_lexer": "ipython3",
   "version": "3.12.6"
  }
 },
 "nbformat": 4,
 "nbformat_minor": 2
}
