{
 "cells": [
  {
   "cell_type": "code",
   "execution_count": 1,
   "metadata": {},
   "outputs": [],
   "source": [
    "from semantic_kernel.agents import AgentGroupChat\n",
    "from semantic_kernel.agents.strategies import TerminationStrategy"
   ]
  },
  {
   "cell_type": "code",
   "execution_count": 2,
   "metadata": {},
   "outputs": [],
   "source": [
    "from semantic_kernel import Kernel\n",
    "from semantic_kernel.agents import ChatCompletionAgent\n",
    "from semantic_kernel.connectors.ai.open_ai import AzureChatCompletion\n",
    "from semantic_kernel.functions import kernel_function\n",
    "from semantic_kernel.connectors.ai import FunctionChoiceBehavior\n",
    "\n",
    "from typing import Annotated"
   ]
  },
  {
   "cell_type": "code",
   "execution_count": 3,
   "metadata": {},
   "outputs": [
    {
     "data": {
      "text/plain": [
       "True"
      ]
     },
     "execution_count": 3,
     "metadata": {},
     "output_type": "execute_result"
    }
   ],
   "source": [
    "import json\n",
    "import os\n",
    "from dotenv import load_dotenv\n",
    "import psycopg2\n",
    "from psycopg2.extras import RealDictCursor\n",
    "load_dotenv()"
   ]
  },
  {
   "cell_type": "code",
   "execution_count": 4,
   "metadata": {},
   "outputs": [],
   "source": [
    "def _create_kernel_with_chat_completion(service_id: str) -> Kernel:\n",
    "    kernel = Kernel()\n",
    "    kernel.add_service(AzureChatCompletion(service_id=service_id, \n",
    "                                        api_key=os.getenv(\"AZURE_OPENAI_API_KEY\"),\n",
    "                                        deployment_name=os.getenv(\"AZURE_OPENAI_CHAT_COMPLETION_MODEL\"),\n",
    "                                        endpoint=os.getenv(\"AZURE_OPENAI_ENDPOINT\"),\n",
    "                                        ))\n",
    "    return kernel"
   ]
  },
  {
   "cell_type": "markdown",
   "metadata": {},
   "source": [
    "## Termination Strategies\n",
    "\n",
    "**KernelFunctionTerminationStrategy**: This strategy uses a kernel function to determine when to terminate the conversation. It allows developers to define custom termination logic using a prompt.\n",
    "\n",
    "**MaxIterationsTerminationStrategy**: Terminates the conversation after a specified number of iterations to prevent infinite loops.\n",
    "\n",
    "**GoalCompletionTerminationStrategy**: This strategy terminates tasks once predefined outcomes are achieved, such as successfully retrieving requested data.\n",
    "\n",
    "**ApprovalTerminationStrategy**: Termination based on Approval of the orchestrator agent.\n",
    "\n",
    "**KeywordTerminationStrategy**: Termination based on certain keyword in the discussion."
   ]
  },
  {
   "cell_type": "code",
   "execution_count": 5,
   "metadata": {},
   "outputs": [],
   "source": [
    "class ApprovalTerminationStrategy(TerminationStrategy):\n",
    "    \"\"\"A strategy for determining when an agent should terminate.\"\"\"\n",
    "\n",
    "    async def should_agent_terminate(self, agent, history):\n",
    "        \"\"\"Check if the agent should terminate.\"\"\"\n",
    "        return \"approved\" in history[-1].content.lower()"
   ]
  },
  {
   "cell_type": "code",
   "execution_count": 6,
   "metadata": {},
   "outputs": [],
   "source": [
    "from decimal import Decimal\n",
    "\n",
    "class DatabaseConnector:\n",
    "    def __init__(self):\n",
    "        self.create_connection()\n",
    "\n",
    "    @kernel_function(description=\"Create a connection object to the postgres database.\")\n",
    "    def create_connection(self):\n",
    "        print(\"create_connection function called... \")\n",
    "        connection = psycopg2.connect(\n",
    "            dbname=os.getenv(\"DB_NAME\"),\n",
    "            user=os.getenv(\"DB_USER\"),\n",
    "            password=os.getenv(\"DB_PASSWORD\"),\n",
    "            host=os.getenv(\"DB_HOST\"),\n",
    "            port=os.getenv(\"DB_PORT\")\n",
    "        )\n",
    "        self.connection = connection\n",
    "        self.cursor = self.connection.cursor(cursor_factory=RealDictCursor)\n",
    "\n",
    "    @kernel_function(description=\"Fetches data based on the query provided.\")\n",
    "    def query_database(self, query: Annotated[str, \"query to be executed\"]) -> Annotated[str, \"Returns the queried information as a json\"]:\n",
    "        \"\"\"\n",
    "        Fetches the information from the required table in PostgreSQL database.\n",
    "\n",
    "        :param query (str): the query to be executed.\n",
    "        :return: fetched information as a JSON string.\n",
    "        :rtype: str\n",
    "        \"\"\"\n",
    "        print(\"query_database function called... query: \", query)\n",
    "        try:\n",
    "            # if(self.connection != True):\n",
    "            #     self.create_connection()\n",
    "            \n",
    "            #connection = self.connection\n",
    "            cursor = self.cursor\n",
    "            cursor.execute(query=query)\n",
    "            result_record = cursor.fetchone()\n",
    "            if result_record:\n",
    "                # Convert Decimal values to strings\n",
    "                for key, value in result_record.items():\n",
    "                    if isinstance(value, Decimal):\n",
    "                        result_record[key] = str(value)\n",
    "                return json.dumps({\"result_record\": result_record})\n",
    "            else:\n",
    "                return json.dumps({\"error\": \"An error occured while fetching the data.\"})\n",
    "        except Exception as e:\n",
    "            return json.dumps({\"error\": str(e)})\n",
    "        # finally:\n",
    "        #     if connection:\n",
    "        #         self.close_connection()\n",
    "        \n",
    "    \n",
    "    @kernel_function(description=\"Closes the connection to the database.\")\n",
    "    def close_connection(self) -> Annotated[str, \"Returns a message indicating the status of the connection closure.\"]:\n",
    "        \"\"\"\n",
    "        Closes the connection to the PostgreSQL database.\n",
    "\n",
    "        :return: Message indicating the status of the connection closure.\n",
    "        :rtype: str\n",
    "        \"\"\"\n",
    "        print(\"close_connection function called... \")\n",
    "        try:\n",
    "            if self.connection:\n",
    "                self.cursor.close()\n",
    "                self.connection.close()\n",
    "            return \"Connection closed successfully.\"\n",
    "        except Exception as e:\n",
    "            return str(e)"
   ]
  },
  {
   "cell_type": "code",
   "execution_count": 7,
   "metadata": {},
   "outputs": [
    {
     "name": "stdout",
     "output_type": "stream",
     "text": [
      "create_connection function called... \n",
      "create_connection function called... \n",
      "query_database function called... query:  select * from accounts where account_id = '1'\n",
      "{\"result_record\": {\"account_id\": 1, \"name\": \"HBL\", \"email\": \"abcd@gef.com\", \"phone\": \"9876543210\", \"balance\": \"99034.50\"}}\n",
      "close_connection function called... \n"
     ]
    },
    {
     "data": {
      "text/plain": [
       "'Connection closed successfully.'"
      ]
     },
     "execution_count": 7,
     "metadata": {},
     "output_type": "execute_result"
    }
   ],
   "source": [
    "acc = DatabaseConnector()\n",
    "acc.create_connection()\n",
    "print(acc.query_database(\"select * from accounts where account_id = '1'\"))\n",
    "acc.close_connection()"
   ]
  },
  {
   "cell_type": "code",
   "execution_count": 8,
   "metadata": {},
   "outputs": [],
   "source": [
    "def _create_kernel_with_chat_completion_and_plugin(service_id: str) -> Kernel:\n",
    "    kernel = Kernel()\n",
    "    kernel.add_service(AzureChatCompletion(service_id=service_id, \n",
    "                                        api_key=os.getenv(\"AZURE_OPENAI_API_KEY\"),\n",
    "                                        deployment_name=os.getenv(\"AZURE_OPENAI_CHAT_COMPLETION_MODEL\"),\n",
    "                                        endpoint=os.getenv(\"AZURE_OPENAI_ENDPOINT\")\n",
    "                                        ))\n",
    "\n",
    "    kernel.add_plugin(DatabaseConnector(), plugin_name=\"db_connector\")\n",
    "    return kernel"
   ]
  },
  {
   "cell_type": "code",
   "execution_count": 9,
   "metadata": {},
   "outputs": [],
   "source": [
    "TRANSCRIPTION_REVIEWER = \"TranscriptionReviewer\"\n",
    "TRANSCRIPTION_REVIEWER_INSTRUCTIONS = \"\"\"\n",
    "You are a transcription reviewer who has been tasked with reviewing a conversation between a customer service agent and a customer.\n",
    "The goal is to examine the conversation and determine if the customer's card is blocked. \n",
    "If so, extract the customer id from the transcript and provide it to the Orchestrator.\n",
    "if not, provide a response stating that you are skiping this transcript.\n",
    "\"\"\"\n",
    "\n",
    "ANALYST_NAME = \"BusinessAnalyst\"\n",
    "ANALYST_INSTRUCTIONS = \"\"\"\n",
    "You are a highly skilled business analyst with extensive experience in writing and executing SQL queries. Fix errors in the SQL queries and ensure they are correct.\n",
    "Do not make any assumptions about query results. You need to execute necessary SQL queries to determine the reason for a blocked card.\n",
    "You have access to a PostgreSQL database that contains information about customers and their credit card transactions.\n",
    "The database contains information about customers in the table customerdata and their credit card transactions in the table credit_card_transactions.\n",
    "The table customerdata has the following columns: customer_id: , card_blocked, payment_due, card_type and credit_card_no.\n",
    "The table credit_card_transactions has the following columns: credit_card_no, date, amount, authentication_passed and location.\n",
    "\n",
    "You have been provided with a customer id by the Orchestrator and you need to query the database to determine the reason for the blocked card.\n",
    "You need to check the card_blocked column in the customerdata table to determine if the card is blocked. \n",
    "If so, you need to check the credit_card_transactions table to determine if the card is blocked due to more than 3 authentication failures. \n",
    "If there were more than 3 authentication failures recently, the card is blocked because of that. \n",
    "If not, the card is blocked due to some other reason. \n",
    "You need to provide the reason (authentication failure or unknown reason) to the Orchestrator.\n",
    "\"\"\"\n",
    "\n",
    "ORCHESTRATOR_NAME = \"Orchestrator\"\n",
    "ORCHESTRATOR_INSTRUCTIONS = \"\"\"\n",
    "You are an orchestrator who has been tasked with coordinating the work of the transcription reviewer and the business analyst.\n",
    "You will receive the customer id from the transcription reviewer and pass it to the business analyst and ask it to determine the reason for the blocked card by executing the necessary SQL queries.\n",
    "If the reviwer provides a response stating that the card is not blocked, you will conclude that the transcript is being skipped as it is not related to Card Blocking.\n",
    "After the analysis is provided by Business Analyst, you will draft an email to the customer with the analysis provided by the business analyst.\n",
    "After you have drafted the email, you MUST approve the analysis by using keywords such as \"approved\" or \"not approved\". \n",
    "\"\"\"\n",
    "\n",
    "TASK = \"Read transcript and determine the reason for blocked card\""
   ]
  },
  {
   "cell_type": "code",
   "execution_count": 10,
   "metadata": {},
   "outputs": [],
   "source": [
    "# 1. Create the reviewer agent based on the chat completion service\n",
    "agent_reviewer = ChatCompletionAgent(\n",
    "    kernel=_create_kernel_with_chat_completion(\"reviewer\"),\n",
    "    name=TRANSCRIPTION_REVIEWER,\n",
    "    instructions=TRANSCRIPTION_REVIEWER_INSTRUCTIONS,\n",
    ")"
   ]
  },
  {
   "cell_type": "code",
   "execution_count": 11,
   "metadata": {},
   "outputs": [
    {
     "name": "stdout",
     "output_type": "stream",
     "text": [
      "create_connection function called... \n"
     ]
    }
   ],
   "source": [
    "# 2. Create the copywriter agent based on the chat completion service\n",
    "analyst_kernel = _create_kernel_with_chat_completion_and_plugin(\"business_analyst\")\n",
    "settings = analyst_kernel.get_prompt_execution_settings_from_service_id(service_id=\"business_analyst\")\n",
    "settings.function_choice_behavior = FunctionChoiceBehavior.Auto()\n",
    "agent_analyst = ChatCompletionAgent(\n",
    "    kernel=analyst_kernel,\n",
    "    name=ANALYST_NAME,\n",
    "    instructions=ANALYST_INSTRUCTIONS,\n",
    "    \n",
    ")"
   ]
  },
  {
   "cell_type": "code",
   "execution_count": 12,
   "metadata": {},
   "outputs": [],
   "source": [
    "# 3. Create the reviewer agent based on the chat completion service\n",
    "agent_orchestrator = ChatCompletionAgent(\n",
    "    kernel=_create_kernel_with_chat_completion(\"orchestrator\"),\n",
    "    name=ORCHESTRATOR_NAME,\n",
    "    instructions=ORCHESTRATOR_INSTRUCTIONS,\n",
    ")"
   ]
  },
  {
   "cell_type": "code",
   "execution_count": 13,
   "metadata": {},
   "outputs": [],
   "source": [
    "# 4. Place the agents in a group chat with a custom termination strategy\n",
    "group_chat = AgentGroupChat(\n",
    "    agents=[\n",
    "        agent_reviewer,\n",
    "        agent_analyst,\n",
    "        agent_orchestrator \n",
    "        \n",
    "    ],\n",
    "    termination_strategy=ApprovalTerminationStrategy(\n",
    "        agents=[agent_orchestrator],\n",
    "        maximum_iterations=25,\n",
    "    ),\n",
    ")"
   ]
  },
  {
   "cell_type": "code",
   "execution_count": 14,
   "metadata": {},
   "outputs": [],
   "source": [
    "from semantic_kernel.agents.group_chat.agent_chat import ChatMessageContent\n",
    "\n",
    "message_content = ChatMessageContent(role=\"user\", content=\"\"\" \n",
    "                                     Customer ID : 123456\n",
    "Date: 16-03-2025 10:23:30\n",
    "\n",
    "Call Transcript:\n",
    "            \n",
    "Agent: how can I help you today? \n",
    "Customer: My card is blocked, could you please help me with that?\n",
    "Agent: I am sorry to hear that. Can you please provide me with your name, contact number, email id and address to unblock the card?\n",
    "Customer: My name is Vikas, contact number is 1234567890, email id is vsdsdf@gmail.com and address is 1234, 5th Avenue, New York, NY 10001\n",
    "Agent: Thank you for providing the details. I have raised a request for this to be looked at immediately. You will receive a confirmation email shortly. Is there anything else I can help you with?\n",
    "Customer: No, that's all. Thank you.\n",
    "Agent: You are welcome. Have a great day!\n",
    "                                     \n",
    "                                     \"\"\")"
   ]
  },
  {
   "cell_type": "code",
   "execution_count": 15,
   "metadata": {},
   "outputs": [],
   "source": [
    "# 4. Add the task as a message to the group chat\n",
    "await group_chat.add_chat_message(message_content)\n"
   ]
  },
  {
   "cell_type": "code",
   "execution_count": 16,
   "metadata": {},
   "outputs": [
    {
     "name": "stdout",
     "output_type": "stream",
     "text": [
      "# TranscriptionReviewer: The customer's card is indeed blocked. Extracting the customer ID:\n",
      "\n",
      "**Customer ID: 123456**\n",
      "\n",
      "Submitting the customer ID to the Orchestrator.\n",
      "query_database function called... query:  SELECT card_blocked FROM customerdata WHERE customer_id = 123456;\n",
      "query_database function called... query:  SELECT COUNT(*) as auth_failures FROM credit_card_transactions WHERE credit_card_no IN (SELECT credit_card_no FROM customerdata WHERE customer_id = 123456) AND authentication_passed = false;\n",
      "query_database function called... query:  SELECT COUNT(*) as auth_failures FROM credit_card_transactions WHERE credit_card_no IN (SELECT CAST(credit_card_no AS TEXT) FROM customerdata WHERE customer_id = 123456) AND authentication_passed = false;\n",
      "query_database function called... query:  ROLLBACK;\n",
      "query_database function called... query:  SELECT card_blocked FROM customerdata WHERE customer_id = 123456;\n",
      "query_database function called... query:  SELECT COUNT(*) as auth_failures FROM credit_card_transactions WHERE credit_card_no IN (SELECT CAST(credit_card_no AS TEXT) FROM customerdata WHERE customer_id = 123456) AND authentication_passed = false;\n",
      "# BusinessAnalyst: The card for customer ID **123456** is blocked. After investigating the credit card transactions, it was found that there were **5 authentication failures** recently. Therefore, the card is blocked due to excessive authentication failures. \n",
      "\n",
      "Reason: **Authentication failure**.\n",
      "# Orchestrator: **Draft Email to Customer:**\n",
      "\n",
      "Subject: Resolution for Your Blocked Card Issue\n",
      "\n",
      "Dear Vikas,\n",
      "\n",
      "Thank you for reaching out to us regarding your blocked card issue.\n",
      "\n",
      "After analyzing the situation, we found that your card was blocked due to **excessive authentication failures** in recent transactions (a total of 5 failed authentication attempts). This is a security measure designed to protect your account from potential unauthorized access.\n",
      "\n",
      "To unblock your card, we request you to verify the recent transactions and ensure that your authentication credentials (e.g., PIN, OTP, etc.) are being entered correctly during future transactions. If you require assistance or suspect possible unauthorized activity, please do not hesitate to contact our support team for further help.\n",
      "\n",
      "Thank you for your understanding, and we apologize for any inconvenience caused. Please let us know if there’s anything else we can assist you with.\n",
      "\n",
      "Best regards,  \n",
      "[Your Company Name]  \n",
      "Customer Service Team  \n",
      "\n",
      "---\n",
      "\n",
      "**Status:** Approved\n"
     ]
    }
   ],
   "source": [
    "# 5. Invoke the chat\n",
    "async for content in group_chat.invoke():\n",
    "    print(f\"# {content.name}: {content.content}\")\n"
   ]
  },
  {
   "cell_type": "code",
   "execution_count": null,
   "metadata": {},
   "outputs": [],
   "source": []
  },
  {
   "cell_type": "code",
   "execution_count": null,
   "metadata": {},
   "outputs": [],
   "source": []
  }
 ],
 "metadata": {
  "kernelspec": {
   "display_name": ".venv",
   "language": "python",
   "name": "python3"
  },
  "language_info": {
   "codemirror_mode": {
    "name": "ipython",
    "version": 3
   },
   "file_extension": ".py",
   "mimetype": "text/x-python",
   "name": "python",
   "nbconvert_exporter": "python",
   "pygments_lexer": "ipython3",
   "version": "3.11.2"
  }
 },
 "nbformat": 4,
 "nbformat_minor": 2
}
