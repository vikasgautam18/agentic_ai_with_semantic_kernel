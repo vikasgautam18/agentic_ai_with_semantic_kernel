{
 "cells": [
  {
   "cell_type": "code",
   "execution_count": 17,
   "metadata": {},
   "outputs": [],
   "source": [
    "from semantic_kernel.agents import AgentGroupChat\n",
    "from semantic_kernel.agents.strategies import TerminationStrategy"
   ]
  },
  {
   "cell_type": "code",
   "execution_count": 18,
   "metadata": {},
   "outputs": [],
   "source": [
    "from semantic_kernel import Kernel\n",
    "from semantic_kernel.agents import ChatCompletionAgent\n",
    "from semantic_kernel.connectors.ai.open_ai import AzureChatCompletion\n",
    "from semantic_kernel.functions import kernel_function\n",
    "\n",
    "from typing import Annotated"
   ]
  },
  {
   "cell_type": "code",
   "execution_count": 19,
   "metadata": {},
   "outputs": [
    {
     "data": {
      "text/plain": [
       "True"
      ]
     },
     "execution_count": 19,
     "metadata": {},
     "output_type": "execute_result"
    }
   ],
   "source": [
    "import json\n",
    "import os\n",
    "from dotenv import load_dotenv\n",
    "import psycopg2\n",
    "from psycopg2.extras import RealDictCursor\n",
    "load_dotenv()"
   ]
  },
  {
   "cell_type": "code",
   "execution_count": 20,
   "metadata": {},
   "outputs": [],
   "source": [
    "def _create_kernel_with_chat_completion(service_id: str) -> Kernel:\n",
    "    kernel = Kernel()\n",
    "    kernel.add_service(AzureChatCompletion(service_id=service_id, \n",
    "                                        api_key=os.getenv(\"AZURE_OPENAI_API_KEY\"),\n",
    "                                        deployment_name=os.getenv(\"AZURE_OPENAI_CHAT_COMPLETION_MODEL\"),\n",
    "                                        endpoint=os.getenv(\"AZURE_OPENAI_ENDPOINT\"),\n",
    "                                        ))\n",
    "    return kernel"
   ]
  },
  {
   "cell_type": "code",
   "execution_count": 21,
   "metadata": {},
   "outputs": [],
   "source": [
    "class ApprovalTerminationStrategy(TerminationStrategy):\n",
    "    \"\"\"A strategy for determining when an agent should terminate.\"\"\"\n",
    "\n",
    "    async def should_agent_terminate(self, agent, history):\n",
    "        \"\"\"Check if the agent should terminate.\"\"\"\n",
    "        return \"approved\" in history[-1].content.lower()"
   ]
  },
  {
   "cell_type": "code",
   "execution_count": 22,
   "metadata": {},
   "outputs": [],
   "source": [
    "from decimal import Decimal\n",
    "\n",
    "class DatabaseConnector:\n",
    "    def __init__(self):\n",
    "        self.create_connection()\n",
    "\n",
    "    @kernel_function(description=\"Create a connection object to the postgres database.\")\n",
    "    def create_connection(self):\n",
    "        print(\"create_connection function called... \")\n",
    "        connection = psycopg2.connect(\n",
    "            dbname=os.getenv(\"DB_NAME\"),\n",
    "            user=os.getenv(\"DB_USER\"),\n",
    "            password=os.getenv(\"DB_PASSWORD\"),\n",
    "            host=os.getenv(\"DB_HOST\"),\n",
    "            port=os.getenv(\"DB_PORT\")\n",
    "        )\n",
    "        self.connection = connection\n",
    "        self.cursor = self.connection.cursor(cursor_factory=RealDictCursor)\n",
    "\n",
    "    @kernel_function(description=\"Fetches user information for a given account id.\")\n",
    "    def query_database(self, query: Annotated[str, \"query to be executed\"]) -> Annotated[str, \"Returns the queried information as a json\"]:\n",
    "        \"\"\"\n",
    "        Fetches the information from the required table in PostgreSQL database.\n",
    "\n",
    "        :param query (str): the query to be executed.\n",
    "        :return: fetched information as a JSON string.\n",
    "        :rtype: str\n",
    "        \"\"\"\n",
    "        print(\"query_database function called... query: \", query)\n",
    "        try:\n",
    "            # if(self.connection != True):\n",
    "            #     self.create_connection()\n",
    "            \n",
    "            #connection = self.connection\n",
    "            cursor = self.cursor\n",
    "            cursor.execute(query=query)\n",
    "            result_record = cursor.fetchone()\n",
    "            if result_record:\n",
    "                # Convert Decimal values to strings\n",
    "                for key, value in result_record.items():\n",
    "                    if isinstance(value, Decimal):\n",
    "                        result_record[key] = str(value)\n",
    "                return json.dumps({\"result_record\": result_record})\n",
    "            else:\n",
    "                return json.dumps({\"error\": \"An error occured while fetching the data.\"})\n",
    "        except Exception as e:\n",
    "            return json.dumps({\"error\": str(e)})\n",
    "        # finally:\n",
    "        #     if connection:\n",
    "        #         self.close_connection()\n",
    "        \n",
    "    \n",
    "    @kernel_function(description=\"Closes the connection to the database.\")\n",
    "    def close_connection(self) -> Annotated[str, \"Returns a message indicating the status of the connection closure.\"]:\n",
    "        \"\"\"\n",
    "        Closes the connection to the PostgreSQL database.\n",
    "\n",
    "        :return: Message indicating the status of the connection closure.\n",
    "        :rtype: str\n",
    "        \"\"\"\n",
    "        print(\"close_connection function called... \")\n",
    "        try:\n",
    "            if self.connection:\n",
    "                self.cursor.close()\n",
    "                self.connection.close()\n",
    "            return \"Connection closed successfully.\"\n",
    "        except Exception as e:\n",
    "            return str(e)"
   ]
  },
  {
   "cell_type": "code",
   "execution_count": 25,
   "metadata": {},
   "outputs": [
    {
     "name": "stdout",
     "output_type": "stream",
     "text": [
      "create_connection function called... \n",
      "create_connection function called... \n",
      "query_database function called... query:  select * from accounts where account_id = '1'\n",
      "{\"result_record\": {\"account_id\": 1, \"name\": \"HBL\", \"email\": \"abcd@gef.com\", \"phone\": \"9876543210\", \"balance\": \"99034.50\"}}\n",
      "close_connection function called... \n"
     ]
    },
    {
     "data": {
      "text/plain": [
       "'Connection closed successfully.'"
      ]
     },
     "execution_count": 25,
     "metadata": {},
     "output_type": "execute_result"
    }
   ],
   "source": [
    "acc = DatabaseConnector()\n",
    "acc.create_connection()\n",
    "print(acc.query_database(\"select * from accounts where account_id = '1'\"))\n",
    "acc.close_connection()"
   ]
  },
  {
   "cell_type": "code",
   "execution_count": 26,
   "metadata": {},
   "outputs": [],
   "source": [
    "def _create_kernel_with_chat_completion_and_plugin(service_id: str) -> Kernel:\n",
    "    kernel = Kernel()\n",
    "    kernel.add_service(AzureChatCompletion(service_id=service_id, \n",
    "                                        api_key=os.getenv(\"AZURE_OPENAI_API_KEY\"),\n",
    "                                        deployment_name=os.getenv(\"AZURE_OPENAI_CHAT_COMPLETION_MODEL\"),\n",
    "                                        endpoint=os.getenv(\"AZURE_OPENAI_ENDPOINT\"),\n",
    "                                        ))\n",
    "    kernel.add_plugin(DatabaseConnector(), plugin_name=\"db_connector\")\n",
    "    return kernel"
   ]
  },
  {
   "cell_type": "code",
   "execution_count": 27,
   "metadata": {},
   "outputs": [],
   "source": [
    "TRANSCRIPTION_REVIEWER = \"TranscriptionReviewer\"\n",
    "TRANSCRIPTION_REVIEWER_INSTRUCTIONS = \"\"\"\n",
    "You are a transcription reviewer who has been tasked with reviewing a conversation between a customer service agent and a customer.\n",
    "The goal is to examine the conversation and determine if the customer's card is blocked. \n",
    "If so, extract the customer id from the transcript and provide it to the Orchestrator.\n",
    "if not, provide a response stating that you are skiping this transcript.\n",
    "\"\"\"\n",
    "\n",
    "ANALYST_NAME = \"BusinessAnalyst\"\n",
    "ANALYST_INSTRUCTIONS = \"\"\"\n",
    "You are a highly skilled business analyst with extensive experience in writing SQL queries who has been tasked to query a set of tables from a database.\n",
    "The database contains information about customers in the table customerdata and their credit card transactions in the table credit_card_transactions.\n",
    "The table customerdata has the following columns: customer_id, card_blocked, payment_due, card_type and credit_card_no.\n",
    "The table credit_card_transactions has the following columns: credit_card_no, date, amount, authentication_passed and location.\n",
    "\n",
    "You have been provided with a customer id by the Orchestrator and you need to query the database to determine the reason for the blocked card.\n",
    "You need to check the card_blocked column in the customerdata table to determine if the card is blocked. \n",
    "If so, you need to check the credit_card_transactions table to determine if the card is blocked due to more than 3 authentication failures. \n",
    "If there were more than 3 authentication failures within the last 1 day, the card is blocked because of that. \n",
    "If not, the card is blocked due to some other reason. \n",
    "You need to provide the reason (authentication failure or unknown reason) to the Orchestrator.\n",
    "\"\"\"\n",
    "\n",
    "ORCHESTRATOR_NAME = \"Orchestrator\"\n",
    "ORCHESTRATOR_INSTRUCTIONS = \"\"\"\n",
    "You are an orchestrator who has been tasked with coordinating the work of the transcription reviewer and the business analyst.\n",
    "You will receive the customer id from the transcription reviewer and pass it to the business analyst.\n",
    "If the reviwer provides a response stating that the card is not blocked, you will conclude that the transcript is being skipped as it is not related to Card Blocking.\n",
    "After the analysis is provided by Business Analyst, you will draft an email to the customer with the analysis provided by the business analyst.\n",
    "After you have drafted the email, you MUST approve the analysis by using keywords such as \"approved\" or \"not approved\". \n",
    "\"\"\"\n",
    "\n",
    "TASK = \"Read transcript and determine the reason for blocked card\"\n",
    "\n",
    "# if the business analyst provides a response stating that the card is blocked and payment is due, you will provide a response stating that the customer's card is blocked and payment is due.\n",
    "# if the business analyst provides a response stating that the card is blocked due to some other reason, you will provide a response stating that the customer's card is blocked due to some other reason.\n",
    "# This means you need to find the date and time of the latest transaction and check if there were more than 3 authentication failures within 30 mins prior to that.\n"
   ]
  },
  {
   "cell_type": "code",
   "execution_count": 28,
   "metadata": {},
   "outputs": [],
   "source": [
    "# 1. Create the reviewer agent based on the chat completion service\n",
    "agent_reviewer = ChatCompletionAgent(\n",
    "    kernel=_create_kernel_with_chat_completion(\"TranscriptionReviewer\"),\n",
    "    name=TRANSCRIPTION_REVIEWER,\n",
    "    instructions=TRANSCRIPTION_REVIEWER_INSTRUCTIONS,\n",
    ")"
   ]
  },
  {
   "cell_type": "code",
   "execution_count": 29,
   "metadata": {},
   "outputs": [
    {
     "name": "stdout",
     "output_type": "stream",
     "text": [
      "create_connection function called... \n"
     ]
    }
   ],
   "source": [
    "# 2. Create the copywriter agent based on the chat completion service\n",
    "agent_analyst = ChatCompletionAgent(\n",
    "    kernel=_create_kernel_with_chat_completion_and_plugin(\"BusinessAnalyst\"),\n",
    "    name=ANALYST_NAME,\n",
    "    instructions=ANALYST_INSTRUCTIONS,\n",
    "    \n",
    ")"
   ]
  },
  {
   "cell_type": "code",
   "execution_count": 30,
   "metadata": {},
   "outputs": [],
   "source": [
    "# 3. Create the reviewer agent based on the chat completion service\n",
    "agent_orchestrator = ChatCompletionAgent(\n",
    "    kernel=_create_kernel_with_chat_completion(\"Orchestrator\"),\n",
    "    name=ORCHESTRATOR_NAME,\n",
    "    instructions=ORCHESTRATOR_INSTRUCTIONS,\n",
    ")"
   ]
  },
  {
   "cell_type": "code",
   "execution_count": 31,
   "metadata": {},
   "outputs": [],
   "source": [
    "# 4. Place the agents in a group chat with a custom termination strategy\n",
    "group_chat = AgentGroupChat(\n",
    "    agents=[\n",
    "        agent_reviewer,\n",
    "        agent_analyst,\n",
    "        agent_orchestrator \n",
    "        \n",
    "    ],\n",
    "    termination_strategy=ApprovalTerminationStrategy(\n",
    "        agents=[agent_orchestrator],\n",
    "        maximum_iterations=10,\n",
    "    ),\n",
    ")"
   ]
  },
  {
   "cell_type": "code",
   "execution_count": 32,
   "metadata": {},
   "outputs": [],
   "source": [
    "from semantic_kernel.agents.group_chat.agent_chat import ChatMessageContent\n",
    "\n",
    "message_content = ChatMessageContent(role=\"user\", content=\"\"\" \n",
    "                                     Customer ID : 123456\n",
    "Date: 16-03-2025 10:23:30\n",
    "\n",
    "Call Transcript:\n",
    "            \n",
    "Agent: how can I help you today? \n",
    "Customer: My card is blocked, could you please help me with that?\n",
    "Agent: I am sorry to hear that. Can you please provide me with your name, contact number, email id and address to unblock the card?\n",
    "Customer: My name is Vikas, contact number is 1234567890, email id is vsdsdf@gmail.com and address is 1234, 5th Avenue, New York, NY 10001\n",
    "Agent: Thank you for providing the details. I have raised a request for this to be looked at immediately. You will receive a confirmation email shortly. Is there anything else I can help you with?\n",
    "Customer: No, that's all. Thank you.\n",
    "Agent: You are welcome. Have a great day!\n",
    "                                     \n",
    "                                     \"\"\")"
   ]
  },
  {
   "cell_type": "code",
   "execution_count": 33,
   "metadata": {},
   "outputs": [],
   "source": [
    "# 4. Add the task as a message to the group chat\n",
    "await group_chat.add_chat_message(message_content)\n"
   ]
  },
  {
   "cell_type": "code",
   "execution_count": 34,
   "metadata": {},
   "outputs": [
    {
     "name": "stdout",
     "output_type": "stream",
     "text": [
      "# TranscriptionReviewer: The customer's card is blocked. The customer ID is 123456.\n",
      "create_connection function called... \n",
      "query_database function called... query:  SELECT card_blocked, credit_card_no FROM customerdata WHERE customer_id = 123456;\n",
      "query_database function called... query:  SELECT COUNT(*) AS authentication_failures FROM credit_card_transactions WHERE credit_card_no = '4004158658075362' AND authentication_passed = false AND date >= NOW() - INTERVAL '1 day' ;\n",
      "close_connection function called... \n",
      "# BusinessAnalyst: The card for Customer ID 123456 is blocked due to authentication failures. There were more than 3 authentication failures (specifically, 5 failures) within the last day.\n",
      "# Orchestrator: Drafting email to the customer:\n",
      "\n",
      "Subject: Update on Your Card Status\n",
      "\n",
      "Dear Vikas,\n",
      "\n",
      "Thank you for reaching out to us regarding your card issue. We have investigated the status of your card, and here is the analysis:\n",
      "\n",
      "Your card has been blocked due to recent multiple authentication failures. Specifically, there were 5 authentication failures detected within the last day which exceeded our security threshold.\n",
      "\n",
      "If you have any further questions or need assistance with unblocking your card, feel free to reach out to us.\n",
      "\n",
      "Thank you for your understanding.\n",
      "\n",
      "Best regards,  \n",
      "[Your Name]  \n",
      "[Your Position]  \n",
      "[Company Name]  \n",
      "[Contact Information]  \n",
      "\n",
      "Email drafted and ready for review. \n",
      "\n",
      "Analysis: approved.\n"
     ]
    }
   ],
   "source": [
    "# 5. Invoke the chat\n",
    "async for content in group_chat.invoke():\n",
    "    print(f\"# {content.name}: {content.content}\")\n"
   ]
  },
  {
   "cell_type": "code",
   "execution_count": null,
   "metadata": {},
   "outputs": [],
   "source": []
  },
  {
   "cell_type": "code",
   "execution_count": null,
   "metadata": {},
   "outputs": [],
   "source": []
  }
 ],
 "metadata": {
  "kernelspec": {
   "display_name": ".venv",
   "language": "python",
   "name": "python3"
  },
  "language_info": {
   "codemirror_mode": {
    "name": "ipython",
    "version": 3
   },
   "file_extension": ".py",
   "mimetype": "text/x-python",
   "name": "python",
   "nbconvert_exporter": "python",
   "pygments_lexer": "ipython3",
   "version": "3.12.6"
  }
 },
 "nbformat": 4,
 "nbformat_minor": 2
}
