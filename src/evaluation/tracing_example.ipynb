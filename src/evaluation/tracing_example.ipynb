{
 "cells": [
  {
   "cell_type": "code",
   "execution_count": 1,
   "id": "1c94d840",
   "metadata": {},
   "outputs": [
    {
     "name": "stdout",
     "output_type": "stream",
     "text": [
      "Note: you may need to restart the kernel to use updated packages.\n"
     ]
    }
   ],
   "source": [
    "pip install --quiet azure-ai-projects==1.0.0b9 azure-identity azure-monitor-opentelemetry opentelemetry-sdk"
   ]
  },
  {
   "cell_type": "code",
   "execution_count": 2,
   "id": "dc769c65",
   "metadata": {},
   "outputs": [],
   "source": [
    "import os\n",
    "os.environ[\"AZURE_TRACING_GEN_AI_CONTENT_RECORDING_ENABLED\"] = \"true\" # False by default"
   ]
  },
  {
   "cell_type": "code",
   "execution_count": 3,
   "id": "1af79571",
   "metadata": {},
   "outputs": [
    {
     "data": {
      "text/plain": [
       "True"
      ]
     },
     "execution_count": 3,
     "metadata": {},
     "output_type": "execute_result"
    }
   ],
   "source": [
    "import dotenv\n",
    "dotenv.load_dotenv()"
   ]
  },
  {
   "cell_type": "code",
   "execution_count": 5,
   "id": "ecb96114",
   "metadata": {},
   "outputs": [
    {
     "name": "stdout",
     "output_type": "stream",
     "text": [
      "southindia.api.azureml.ms;dfe81aa9-b256-4fe8-9cd5-23732f4d59c6;TechNTomorrow;tntproject\n"
     ]
    }
   ],
   "source": [
    "print(f\"{os.environ['PROJECT_CONNECTION_STRING']}\")"
   ]
  },
  {
   "cell_type": "code",
   "execution_count": 6,
   "id": "d76ccab6",
   "metadata": {},
   "outputs": [],
   "source": [
    "from azure.ai.projects import AIProjectClient\n",
    "from azure.identity import DefaultAzureCredential\n",
    "project_client = AIProjectClient.from_connection_string(\n",
    "    credential=DefaultAzureCredential(),\n",
    "    conn_str=os.environ[\"PROJECT_CONNECTION_STRING\"],\n",
    ")"
   ]
  },
  {
   "cell_type": "code",
   "execution_count": 7,
   "id": "3cd49cc1",
   "metadata": {},
   "outputs": [],
   "source": [
    "\n",
    "import os\n",
    "from azure.ai.projects import AIProjectClient\n",
    "from azure.identity import DefaultAzureCredential\n",
    "from azure.ai.projects.models import FunctionTool, ToolSet\n",
    "\n",
    "# Import your custom functions to be used as Tools for the Agent\n",
    "from user_functions import user_functions\n",
    "\n",
    "project_client = AIProjectClient.from_connection_string(\n",
    "    credential=DefaultAzureCredential(),\n",
    "    conn_str=os.environ[\"PROJECT_CONNECTION_STRING\"],\n",
    ")\n",
    "\n",
    "AGENT_NAME = \"Seattle Tourist Assistant\"\n",
    "\n",
    "# Add Tools to be used by Agent\n",
    "functions = FunctionTool(user_functions)\n",
    "\n",
    "toolset = ToolSet()\n",
    "toolset.add(functions)\n",
    "\n",
    "# To enable tool calls executed automatically\n",
    "project_client.agents.enable_auto_function_calls(toolset=toolset)"
   ]
  },
  {
   "cell_type": "code",
   "execution_count": 8,
   "id": "636e1a21",
   "metadata": {},
   "outputs": [],
   "source": [
    "from azure.monitor.opentelemetry import configure_azure_monitor\n",
    "connection_string = project_client.telemetry.get_connection_string()\n",
    "\n",
    "if not connection_string:\n",
    "    print(\"Application Insights is not enabled. Enable by going to Tracing in your Azure AI Foundry project.\")\n",
    "    exit()\n",
    "\n",
    "configure_azure_monitor(connection_string=connection_string) #enable telemetry collection"
   ]
  },
  {
   "cell_type": "code",
   "execution_count": 9,
   "id": "99f54dcd",
   "metadata": {},
   "outputs": [
    {
     "name": "stdout",
     "output_type": "stream",
     "text": [
      "Created agent, ID: asst_VcCpE3cOhtDmV1NqdVubdnsx\n",
      "Created thread, ID: thread_2AHmTD8bg9y3CvLyO5Epr4S9\n",
      "Created message, ID: msg_nrMRWVQmrTCSAUQOdHIR5M9s\n",
      "Run finished with status: RunStatus.COMPLETED\n",
      "Run ID: run_I0D807ofXbaSstNLP0ngQKsu\n"
     ]
    }
   ],
   "source": [
    "from opentelemetry import trace\n",
    "tracer = trace.get_tracer(__name__)\n",
    "\n",
    "with tracer.start_as_current_span(\"seattle_agent-tracing\"):\n",
    "    agent = project_client.agents.create_agent(\n",
    "    model=os.environ[\"AGENT_MODEL_DEPLOYMENT_NAME\"],\n",
    "    name=AGENT_NAME,\n",
    "    instructions=\"You are a helpful assistant\",\n",
    "    toolset=toolset,\n",
    "    )\n",
    "\n",
    "    print(f\"Created agent, ID: {agent.id}\")\n",
    "\n",
    "    # Create a thread for the agent to interact with\n",
    "    thread = project_client.agents.create_thread()\n",
    "    print(f\"Created thread, ID: {thread.id}\")\n",
    "\n",
    "    # Create message to thread\n",
    "\n",
    "    MESSAGE = \"Can you email me weather info for Tokyo ?\"\n",
    "\n",
    "    message = project_client.agents.create_message(\n",
    "        thread_id=thread.id,\n",
    "        role=\"user\",\n",
    "        content=MESSAGE,\n",
    "    )\n",
    "    print(f\"Created message, ID: {message.id}\")\n",
    "\n",
    "    ### Execute the Agent run\n",
    "    run = project_client.agents.create_and_process_run(thread_id=thread.id, agent_id=agent.id)\n",
    "\n",
    "    print(f\"Run finished with status: {run.status}\")\n",
    "\n",
    "    if run.status == \"failed\":\n",
    "        print(f\"Run failed: {run.last_error}\")\n",
    "\n",
    "    print(f\"Run ID: {run.id}\")"
   ]
  },
  {
   "cell_type": "code",
   "execution_count": null,
   "id": "c98ee8e2",
   "metadata": {},
   "outputs": [],
   "source": []
  },
  {
   "cell_type": "code",
   "execution_count": null,
   "id": "a4ead9ef",
   "metadata": {},
   "outputs": [],
   "source": []
  },
  {
   "cell_type": "code",
   "execution_count": null,
   "id": "9127bd19",
   "metadata": {},
   "outputs": [],
   "source": [
    "from azure.monitor.opentelemetry import configure_azure_monitor\n",
    "connection_string = project_client.telemetry.get_connection_string()\n",
    "\n",
    "if not connection_string:\n",
    "    print(\"Application Insights is not enabled. Enable by going to Tracing in your Azure AI Foundry project.\")\n",
    "    exit()\n",
    "\n",
    "configure_azure_monitor(connection_string=connection_string) #enable telemetry collection"
   ]
  },
  {
   "cell_type": "code",
   "execution_count": null,
   "id": "f02fa4cd",
   "metadata": {},
   "outputs": [],
   "source": [
    "from opentelemetry import trace\n",
    "tracer = trace.get_tracer(__name__)\n",
    "\n",
    "with tracer.start_as_current_span(\"example-tracing\"):\n",
    "    agent = project_client.agents.create_agent(\n",
    "        model=os.environ[\"MODEL_DEPLOYMENT_NAME\"],\n",
    "        name=\"my-assistant\",\n",
    "        instructions=\"You are a helpful assistant\"\n",
    "    )\n",
    "    thread = project_client.agents.create_thread()\n",
    "    message = project_client.agents.create_message(\n",
    "        thread_id=thread.id, role=\"user\", content=\"Tell me a joke\"\n",
    "    )\n",
    "    run = project_client.agents.create_run(thread_id=thread.id, agent_id=agent.id)"
   ]
  },
  {
   "cell_type": "code",
   "execution_count": null,
   "id": "64e5d8c4",
   "metadata": {},
   "outputs": [],
   "source": []
  }
 ],
 "metadata": {
  "kernelspec": {
   "display_name": ".venv",
   "language": "python",
   "name": "python3"
  },
  "language_info": {
   "codemirror_mode": {
    "name": "ipython",
    "version": 3
   },
   "file_extension": ".py",
   "mimetype": "text/x-python",
   "name": "python",
   "nbconvert_exporter": "python",
   "pygments_lexer": "ipython3",
   "version": "3.11.2"
  }
 },
 "nbformat": 4,
 "nbformat_minor": 5
}
